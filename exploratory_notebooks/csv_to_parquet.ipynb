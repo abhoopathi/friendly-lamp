{
 "cells": [
  {
   "cell_type": "code",
   "execution_count": 1,
   "metadata": {
    "collapsed": true,
    "scrolled": true
   },
   "outputs": [],
   "source": [
    "from pyspark.sql import SQLContext\n",
    "\n",
    "\n",
    "from pyspark.context import SparkContext\n",
    "from pyspark.sql.session import SparkSession\n",
    "import os\n",
    "\n",
    "#os.environ['PYSPARK_SUBMIT_ARGS'] = \"--master local[2] pyspark-shell\"\n",
    "#os.environ['JAVA_HOME'] = \"/usr/lib/jvm/java-8-oracle\"\n",
    "\n",
    "sc = SparkContext()\n",
    "#spark = SparkSession(sc)\n",
    "\n",
    "sqlContext = SQLContext(sc)\n",
    "\n",
    "#df = sqlContext.read.format('com.databricks.spark.csv').options(header='true', inferschema='true').load('appid_datapoint_full.csv')"
   ]
  },
  {
   "cell_type": "markdown",
   "metadata": {},
   "source": [
    "## Reading appid_datapoint and writting as parquet"
   ]
  },
  {
   "cell_type": "code",
   "execution_count": 37,
   "metadata": {},
   "outputs": [
    {
     "data": {
      "text/plain": [
       "'0:00:00.016930'"
      ]
     },
     "execution_count": 37,
     "metadata": {},
     "output_type": "execute_result"
    }
   ],
   "source": [
    "t1 = datetime.datetime.now()\n",
    "df = sqlContext.read.format('com.databricks.spark.csv').options(header=False, inferschema=True).load('appid_datapoint_full.csv', schema=oldSchema)\n",
    "t2 = datetime.datetime.now()\n",
    "str(t2-t1)"
   ]
  },
  {
   "cell_type": "code",
   "execution_count": 36,
   "metadata": {},
   "outputs": [
    {
     "data": {
      "text/plain": [
       "StructType(List(StructField(time_stamp,LongType,true),StructField(source,StringType,true),StructField(zone,StringType,true),StructField(target_address,StringType,true),StructField(application,StringType,true),StructField(applicationgroup,StringType,true),StructField(target_attribute_id,IntegerType,true),StructField(byte_count,LongType,true),StructField(tx_byte_count,LongType,true),StructField(rx_byte_count,LongType,true),StructField(flow_count,IntegerType,true),StructField(tx_flow_count,IntegerType,true),StructField(rx_flow_count,IntegerType,true),StructField(tcp_rsp_time,IntegerType,true),StructField(app_rsp_time,IntegerType,true),StructField(user_data,StringType,true)))"
      ]
     },
     "execution_count": 36,
     "metadata": {},
     "output_type": "execute_result"
    }
   ],
   "source": [
    "oldSchema"
   ]
  },
  {
   "cell_type": "code",
   "execution_count": 33,
   "metadata": {},
   "outputs": [
    {
     "data": {
      "text/plain": [
       "'0:00:00.014749'"
      ]
     },
     "execution_count": 33,
     "metadata": {},
     "output_type": "execute_result"
    }
   ],
   "source": [
    "oldSchema = df.schema\n",
    "t1 = datetime.datetime.now()\n",
    "\n",
    "cols = [ 'time_stamp' , 'source' , 'zone' , 'target_address' , 'application' , 'applicationgroup' , 'target_attribute_id' , 'byte_count' , 'tx_byte_count' , 'rx_byte_count' , 'flow_count' , 'tx_flow_count' , 'rx_flow_count' , 'tcp_rsp_time' , 'app_rsp_time' , 'user_data' ]\n",
    "for i,k in enumerate(oldSchema.fields):\n",
    "    k.name = cols[i]\n",
    "df = sqlContext.read.format(\"com.databricks.spark.csv\").options(header='false', delimiter='\\t').load(\"appid_datapoint_full.csv\", schema=oldSchema)\n",
    "t2 = datetime.datetime.now()\n",
    "str(t2-t1)\n",
    "\n",
    "#df2.write.parquet('appid_attribute_parquet')"
   ]
  },
  {
   "cell_type": "code",
   "execution_count": 38,
   "metadata": {},
   "outputs": [
    {
     "data": {
      "text/plain": [
       "Row(time_stamp=1510358400000, source='10.6.1.101', zone='\\\\N', target_address='134.141.77.129/', application='Salesforce', applicationgroup='Business Applications', target_attribute_id=214749637, byte_count=0, tx_byte_count=0, rx_byte_count=0, flow_count=0, tx_flow_count=0, rx_flow_count=0, tcp_rsp_time=0, app_rsp_time=0, user_data='\\\\N')"
      ]
     },
     "execution_count": 38,
     "metadata": {},
     "output_type": "execute_result"
    }
   ],
   "source": [
    "df.head()"
   ]
  },
  {
   "cell_type": "code",
   "execution_count": 49,
   "metadata": {
    "collapsed": true
   },
   "outputs": [],
   "source": [
    "df.write.parquet('appid_datapoint_parquet1')"
   ]
  },
  {
   "cell_type": "code",
   "execution_count": null,
   "metadata": {
    "collapsed": true
   },
   "outputs": [],
   "source": []
  },
  {
   "cell_type": "markdown",
   "metadata": {},
   "source": [
    "## Reading appid_attribute and storing as parquet"
   ]
  },
  {
   "cell_type": "code",
   "execution_count": 2,
   "metadata": {
    "collapsed": true
   },
   "outputs": [],
   "source": [
    "import datetime\n",
    "#spark = SparkSession(sc)\n",
    "\n",
    "#sqlContext = SQLContext(sc)\n",
    "t2 = datetime.datetime.now()"
   ]
  },
  {
   "cell_type": "code",
   "execution_count": 16,
   "metadata": {
    "collapsed": true
   },
   "outputs": [],
   "source": [
    "df2 = sqlContext.read.format('com.databricks.spark.csv').options(header=True, inferschema=True).load('appid_attribute_full_final.csv')\n",
    "t3 = datetime.datetime.now()"
   ]
  },
  {
   "cell_type": "code",
   "execution_count": 17,
   "metadata": {},
   "outputs": [
    {
     "data": {
      "text/plain": [
       "Row(attribute_id=214744672, time_stamp=1510358400000, source='134.141.5.104', target_address='134.141.168.108/', target_type='SERVER', location='Salem NH', detailed_location='134.141.102.17/+maclsql1a/134.141.168.108/eth1 (ge.1.9)', device_type='\\\\N', profile='Server Farm Default', username=None, user_data1='\\\\N', user_data2='\\\\N')"
      ]
     },
     "execution_count": 17,
     "metadata": {},
     "output_type": "execute_result"
    }
   ],
   "source": [
    "df2.head()"
   ]
  },
  {
   "cell_type": "code",
   "execution_count": 18,
   "metadata": {},
   "outputs": [
    {
     "data": {
      "text/plain": [
       "'4:07:29.372480'"
      ]
     },
     "execution_count": 18,
     "metadata": {},
     "output_type": "execute_result"
    }
   ],
   "source": [
    "str(t3-t2)"
   ]
  },
  {
   "cell_type": "code",
   "execution_count": 12,
   "metadata": {
    "collapsed": true
   },
   "outputs": [],
   "source": [
    "#oldSchema = df2.schema\n",
    "#cols = ['target_attribute_id' , 'time_stamp' , 'source' , 'target_address' , 'target_type' , 'location' , 'detailed_location' , 'device_type' , 'profile' , 'username' , 'user_data1' , 'user_data2' ]\n",
    "#for i,k in enumerate(oldSchema.fields):\n",
    "#    k.name = cols[i]\n",
    "#df2 = sqlContext.read.format(\"com.databricks.spark.csv\").options(header='false', delimiter='\\t').load(\"appid_attribute_full_final.csv\", schema=oldSchema)\n",
    "\n",
    "\n",
    "#df2.write.parquet('appid_attribute_parquet')"
   ]
  },
  {
   "cell_type": "code",
   "execution_count": 30,
   "metadata": {
    "collapsed": true,
    "scrolled": true
   },
   "outputs": [],
   "source": [
    "df2.write.parquet('appid_attribute_parquet')"
   ]
  },
  {
   "cell_type": "markdown",
   "metadata": {},
   "source": [
    "### Efficiency test"
   ]
  },
  {
   "cell_type": "markdown",
   "metadata": {},
   "source": [
    "####  time = 4.59"
   ]
  },
  {
   "cell_type": "code",
   "execution_count": 26,
   "metadata": {
    "scrolled": true
   },
   "outputs": [
    {
     "ename": "AttributeError",
     "evalue": "'DataFrame' object has no attribute 'index'",
     "output_type": "error",
     "traceback": [
      "\u001b[0;31m---------------------------------------------------------------------------\u001b[0m",
      "\u001b[0;31mAttributeError\u001b[0m                            Traceback (most recent call last)",
      "\u001b[0;32m<ipython-input-26-c6f658e7d013>\u001b[0m in \u001b[0;36m<module>\u001b[0;34m()\u001b[0m\n\u001b[0;32m----> 1\u001b[0;31m \u001b[0mnewDF\u001b[0m \u001b[0;34m=\u001b[0m \u001b[0mdf\u001b[0m\u001b[0;34m.\u001b[0m\u001b[0mjoin\u001b[0m\u001b[0;34m(\u001b[0m\u001b[0mdf2\u001b[0m\u001b[0;34m,\u001b[0m \u001b[0mdf\u001b[0m\u001b[0;34m.\u001b[0m\u001b[0mtarget_attribute_id\u001b[0m \u001b[0;34m==\u001b[0m \u001b[0mdf2\u001b[0m\u001b[0;34m.\u001b[0m\u001b[0mattribute_id\u001b[0m\u001b[0;34m,\u001b[0m \u001b[0;34m'left'\u001b[0m\u001b[0;34m)\u001b[0m\u001b[0;34m.\u001b[0m\u001b[0mdrop\u001b[0m\u001b[0;34m(\u001b[0m\u001b[0mdf2\u001b[0m\u001b[0;34m.\u001b[0m\u001b[0mindex\u001b[0m\u001b[0;34m)\u001b[0m\u001b[0;34m\u001b[0m\u001b[0m\n\u001b[0m\u001b[1;32m      2\u001b[0m \u001b[0mnewDF\u001b[0m\u001b[0;34m.\u001b[0m\u001b[0mshow\u001b[0m\u001b[0;34m(\u001b[0m\u001b[0;34m)\u001b[0m\u001b[0;34m\u001b[0m\u001b[0m\n",
      "\u001b[0;32m~/anaconda3/lib/python3.6/site-packages/pyspark/sql/dataframe.py\u001b[0m in \u001b[0;36m__getattr__\u001b[0;34m(self, name)\u001b[0m\n\u001b[1;32m   1180\u001b[0m         \u001b[0;32mif\u001b[0m \u001b[0mname\u001b[0m \u001b[0;32mnot\u001b[0m \u001b[0;32min\u001b[0m \u001b[0mself\u001b[0m\u001b[0;34m.\u001b[0m\u001b[0mcolumns\u001b[0m\u001b[0;34m:\u001b[0m\u001b[0;34m\u001b[0m\u001b[0m\n\u001b[1;32m   1181\u001b[0m             raise AttributeError(\n\u001b[0;32m-> 1182\u001b[0;31m                 \"'%s' object has no attribute '%s'\" % (self.__class__.__name__, name))\n\u001b[0m\u001b[1;32m   1183\u001b[0m         \u001b[0mjc\u001b[0m \u001b[0;34m=\u001b[0m \u001b[0mself\u001b[0m\u001b[0;34m.\u001b[0m\u001b[0m_jdf\u001b[0m\u001b[0;34m.\u001b[0m\u001b[0mapply\u001b[0m\u001b[0;34m(\u001b[0m\u001b[0mname\u001b[0m\u001b[0;34m)\u001b[0m\u001b[0;34m\u001b[0m\u001b[0m\n\u001b[1;32m   1184\u001b[0m         \u001b[0;32mreturn\u001b[0m \u001b[0mColumn\u001b[0m\u001b[0;34m(\u001b[0m\u001b[0mjc\u001b[0m\u001b[0;34m)\u001b[0m\u001b[0;34m\u001b[0m\u001b[0m\n",
      "\u001b[0;31mAttributeError\u001b[0m: 'DataFrame' object has no attribute 'index'"
     ]
    }
   ],
   "source": [
    "newDF = df.join(df2, df.target_attribute_id == df2.attribute_id, 'left')\n",
    "newDF.show()"
   ]
  },
  {
   "cell_type": "code",
   "execution_count": 27,
   "metadata": {},
   "outputs": [
    {
     "data": {
      "text/plain": [
       "Row(time_stamp=None, source=None, zone=None, target_address=None, application=None, applicationgroup=None, target_attribute_id=None, byte_count=None, tx_byte_count=None, rx_byte_count=None, flow_count=None, tx_flow_count=None, rx_flow_count=None, tcp_rsp_time=None, app_rsp_time=None, user_data=None, attribute_id=None, time_stamp=None, source=None, target_address=None, target_type=None, location=None, detailed_location=None, device_type=None, profile=None, username=None, user_data1=None, user_data2=None)"
      ]
     },
     "execution_count": 27,
     "metadata": {},
     "output_type": "execute_result"
    }
   ],
   "source": [
    "newDF.head()"
   ]
  },
  {
   "cell_type": "code",
   "execution_count": 22,
   "metadata": {},
   "outputs": [
    {
     "data": {
      "text/plain": [
       "datetime.datetime(2018, 6, 14, 7, 41, 18, 535029)"
      ]
     },
     "execution_count": 22,
     "metadata": {},
     "output_type": "execute_result"
    }
   ],
   "source": [
    "datetime.datetime.now()"
   ]
  },
  {
   "cell_type": "code",
   "execution_count": 4,
   "metadata": {
    "scrolled": true
   },
   "outputs": [
    {
     "name": "stdout",
     "output_type": "stream",
     "text": [
      "0:00:08.087890\n"
     ]
    }
   ],
   "source": [
    "import pyarrow.parquet as pq\n",
    "import datetime\n",
    "t1 = datetime.datetime.now()\n",
    "df_p = pq.read_table('appid_attribute_parquet')\n",
    "#df_ptod = df_p.to_pandas()\n",
    "t2 = datetime.datetime.now()\n",
    "print((str(t2-t1)))\n",
    "#print(len(df_ptod))\n",
    "       "
   ]
  },
  {
   "cell_type": "code",
   "execution_count": 6,
   "metadata": {
    "scrolled": true
   },
   "outputs": [
    {
     "name": "stdout",
     "output_type": "stream",
     "text": [
      "0:00:51.659943\n",
      "21494586\n"
     ]
    }
   ],
   "source": [
    "import pandas as pd\n",
    "df_ptod = None\n",
    "t1 = datetime.datetime.now()\n",
    "df_p = pd.read_csv('appid_attribute_full_final.csv')\n",
    "\n",
    "t2 = datetime.datetime.now()\n",
    "print((str(t2-t1)))\n",
    "print(len(df_p))"
   ]
  },
  {
   "cell_type": "code",
   "execution_count": null,
   "metadata": {
    "collapsed": true,
    "scrolled": true
   },
   "outputs": [],
   "source": [
    "import pyarrow.parquet as pq\n",
    "import datetime\n",
    "t1 = datetime.datetime.now()\n",
    "df_p = pq.read_table('appid_datapoint_parquet')\n",
    "#df_ptod = df_p.to_pandas()\n",
    "t2 = datetime.datetime.now()\n",
    "print((str(t2-t1)))\n",
    "print(len(df_ptod))\n",
    "       "
   ]
  },
  {
   "cell_type": "code",
   "execution_count": 7,
   "metadata": {
    "collapsed": true
   },
   "outputs": [],
   "source": [
    "df_p = None"
   ]
  },
  {
   "cell_type": "code",
   "execution_count": null,
   "metadata": {
    "collapsed": true
   },
   "outputs": [],
   "source": [
    "df_p.head()"
   ]
  },
  {
   "cell_type": "code",
   "execution_count": null,
   "metadata": {
    "collapsed": true
   },
   "outputs": [],
   "source": [
    "df_p[(df_p.source =='10.6.1.101') & (df_p.application =='Salesforce')]"
   ]
  },
  {
   "cell_type": "code",
   "execution_count": 4,
   "metadata": {},
   "outputs": [
    {
     "data": {
      "text/html": [
       "<div>\n",
       "<style>\n",
       "    .dataframe thead tr:only-child th {\n",
       "        text-align: right;\n",
       "    }\n",
       "\n",
       "    .dataframe thead th {\n",
       "        text-align: left;\n",
       "    }\n",
       "\n",
       "    .dataframe tbody tr th {\n",
       "        vertical-align: top;\n",
       "    }\n",
       "</style>\n",
       "<table border=\"1\" class=\"dataframe\">\n",
       "  <thead>\n",
       "    <tr style=\"text-align: right;\">\n",
       "      <th></th>\n",
       "      <th>attribute_id</th>\n",
       "      <th>time_stamp</th>\n",
       "      <th>source</th>\n",
       "      <th>target_address</th>\n",
       "      <th>target_type</th>\n",
       "      <th>location</th>\n",
       "      <th>detailed_location</th>\n",
       "      <th>device_type</th>\n",
       "      <th>profile</th>\n",
       "      <th>username</th>\n",
       "      <th>user_data1</th>\n",
       "      <th>user_data2</th>\n",
       "    </tr>\n",
       "  </thead>\n",
       "  <tbody>\n",
       "    <tr>\n",
       "      <th>0</th>\n",
       "      <td>214744672</td>\n",
       "      <td>1510358400000</td>\n",
       "      <td>134.141.5.104</td>\n",
       "      <td>134.141.168.108/</td>\n",
       "      <td>SERVER</td>\n",
       "      <td>Salem NH</td>\n",
       "      <td>134.141.102.17/+maclsql1a/134.141.168.108/eth1...</td>\n",
       "      <td>\\N</td>\n",
       "      <td>Server Farm Default</td>\n",
       "      <td>None</td>\n",
       "      <td>\\N</td>\n",
       "      <td>\\N</td>\n",
       "    </tr>\n",
       "    <tr>\n",
       "      <th>1</th>\n",
       "      <td>214744673</td>\n",
       "      <td>1510358400000</td>\n",
       "      <td>134.141.5.104</td>\n",
       "      <td>134.141.72.72/</td>\n",
       "      <td>CLIENT</td>\n",
       "      <td>Salem NH</td>\n",
       "      <td>134.141.104.103/maeq6510-1/ctl0-eth1/iscsi2 (t...</td>\n",
       "      <td>\\N</td>\n",
       "      <td>Server iSCSI Node</td>\n",
       "      <td>None</td>\n",
       "      <td>\\N</td>\n",
       "      <td>\\N</td>\n",
       "    </tr>\n",
       "    <tr>\n",
       "      <th>2</th>\n",
       "      <td>214744674</td>\n",
       "      <td>1510358400000</td>\n",
       "      <td>134.141.5.104</td>\n",
       "      <td>134.141.79.192/</td>\n",
       "      <td>SERVER</td>\n",
       "      <td>Salem NH</td>\n",
       "      <td>\\N</td>\n",
       "      <td>\\N</td>\n",
       "      <td>\\N</td>\n",
       "      <td>\\N</td>\n",
       "      <td>\\N</td>\n",
       "      <td>\\N</td>\n",
       "    </tr>\n",
       "    <tr>\n",
       "      <th>3</th>\n",
       "      <td>214744675</td>\n",
       "      <td>1510358400000</td>\n",
       "      <td>134.141.5.104</td>\n",
       "      <td>10.51.1.154/</td>\n",
       "      <td>SERVER</td>\n",
       "      <td>Other Corporate Labs</td>\n",
       "      <td>\\N</td>\n",
       "      <td>\\N</td>\n",
       "      <td>\\N</td>\n",
       "      <td>\\N</td>\n",
       "      <td>\\N</td>\n",
       "      <td>\\N</td>\n",
       "    </tr>\n",
       "    <tr>\n",
       "      <th>4</th>\n",
       "      <td>214744676</td>\n",
       "      <td>1510358400000</td>\n",
       "      <td>134.141.5.104</td>\n",
       "      <td>134.141.90.41/eospina-pc</td>\n",
       "      <td>CLIENT</td>\n",
       "      <td>Salem NH</td>\n",
       "      <td>134.141.104.209/2-78 Gray (ge.4.6)</td>\n",
       "      <td>Windows</td>\n",
       "      <td>Allow Exteneded Access Salem</td>\n",
       "      <td>CORP\\\\daveh</td>\n",
       "      <td>\\N</td>\n",
       "      <td>\\N</td>\n",
       "    </tr>\n",
       "  </tbody>\n",
       "</table>\n",
       "</div>"
      ],
      "text/plain": [
       "   attribute_id     time_stamp         source            target_address  \\\n",
       "0     214744672  1510358400000  134.141.5.104          134.141.168.108/   \n",
       "1     214744673  1510358400000  134.141.5.104            134.141.72.72/   \n",
       "2     214744674  1510358400000  134.141.5.104           134.141.79.192/   \n",
       "3     214744675  1510358400000  134.141.5.104              10.51.1.154/   \n",
       "4     214744676  1510358400000  134.141.5.104  134.141.90.41/eospina-pc   \n",
       "\n",
       "  target_type              location  \\\n",
       "0      SERVER              Salem NH   \n",
       "1      CLIENT              Salem NH   \n",
       "2      SERVER              Salem NH   \n",
       "3      SERVER  Other Corporate Labs   \n",
       "4      CLIENT              Salem NH   \n",
       "\n",
       "                                   detailed_location device_type  \\\n",
       "0  134.141.102.17/+maclsql1a/134.141.168.108/eth1...          \\N   \n",
       "1  134.141.104.103/maeq6510-1/ctl0-eth1/iscsi2 (t...          \\N   \n",
       "2                                                 \\N          \\N   \n",
       "3                                                 \\N          \\N   \n",
       "4                 134.141.104.209/2-78 Gray (ge.4.6)     Windows   \n",
       "\n",
       "                        profile     username user_data1 user_data2  \n",
       "0           Server Farm Default         None         \\N         \\N  \n",
       "1             Server iSCSI Node         None         \\N         \\N  \n",
       "2                            \\N           \\N         \\N         \\N  \n",
       "3                            \\N           \\N         \\N         \\N  \n",
       "4  Allow Exteneded Access Salem  CORP\\\\daveh         \\N         \\N  "
      ]
     },
     "execution_count": 4,
     "metadata": {},
     "output_type": "execute_result"
    }
   ],
   "source": [
    "df_ptod.head()"
   ]
  },
  {
   "cell_type": "code",
   "execution_count": 27,
   "metadata": {
    "collapsed": true
   },
   "outputs": [],
   "source": [
    "#import pandas as pd\n",
    "#pd_df = pd.read_csv('appid_attribute_full_final.csv')\n",
    "#pd_df.head()\n",
    "pd_df = None"
   ]
  },
  {
   "cell_type": "code",
   "execution_count": 19,
   "metadata": {
    "collapsed": true
   },
   "outputs": [],
   "source": [
    "#row = pd_df.columns\n",
    "#pd_df.columns = ['attribute_id' , 'time_stamp' , 'source' , 'target_address' , 'target_type' , 'location' , 'detailed_location' , 'device_type' , 'profile' , 'username' , 'user_data1' , 'user_data2' ]\n",
    "\n"
   ]
  },
  {
   "cell_type": "code",
   "execution_count": 24,
   "metadata": {
    "collapsed": true
   },
   "outputs": [],
   "source": [
    "#temp = pd.DataFrame(pd.DataFrame(row).transpose())\n",
    "#temp.columns = ['attribute_id' , 'time_stamp' , 'source' , 'target_address' , 'target_type' , 'location' , 'detailed_location' , 'device_type' , 'profile' , 'username' , 'user_data1' , 'user_data2' ]\n",
    "#pd_df = pd_df.append(temp)\n"
   ]
  },
  {
   "cell_type": "code",
   "execution_count": 25,
   "metadata": {
    "collapsed": true
   },
   "outputs": [],
   "source": [
    "#pd_df.to_csv('appid_attribute_full_final.csv',index =False)"
   ]
  },
  {
   "cell_type": "code",
   "execution_count": 20,
   "metadata": {},
   "outputs": [
    {
     "data": {
      "text/html": [
       "<div>\n",
       "<style>\n",
       "    .dataframe thead tr:only-child th {\n",
       "        text-align: right;\n",
       "    }\n",
       "\n",
       "    .dataframe thead th {\n",
       "        text-align: left;\n",
       "    }\n",
       "\n",
       "    .dataframe tbody tr th {\n",
       "        vertical-align: top;\n",
       "    }\n",
       "</style>\n",
       "<table border=\"1\" class=\"dataframe\">\n",
       "  <thead>\n",
       "    <tr style=\"text-align: right;\">\n",
       "      <th></th>\n",
       "      <th>attribute_id</th>\n",
       "      <th>time_stamp</th>\n",
       "      <th>source</th>\n",
       "      <th>target_address</th>\n",
       "      <th>target_type</th>\n",
       "      <th>location</th>\n",
       "      <th>detailed_location</th>\n",
       "      <th>device_type</th>\n",
       "      <th>profile</th>\n",
       "      <th>username</th>\n",
       "      <th>user_data1</th>\n",
       "      <th>user_data2</th>\n",
       "    </tr>\n",
       "  </thead>\n",
       "  <tbody>\n",
       "    <tr>\n",
       "      <th>0</th>\n",
       "      <td>214744672</td>\n",
       "      <td>1510358400000</td>\n",
       "      <td>134.141.5.104</td>\n",
       "      <td>134.141.168.108/</td>\n",
       "      <td>SERVER</td>\n",
       "      <td>Salem NH</td>\n",
       "      <td>134.141.102.17/+maclsql1a/134.141.168.108/eth1...</td>\n",
       "      <td>\\N</td>\n",
       "      <td>Server Farm Default</td>\n",
       "      <td>NaN</td>\n",
       "      <td>\\N</td>\n",
       "      <td>\\N</td>\n",
       "    </tr>\n",
       "    <tr>\n",
       "      <th>1</th>\n",
       "      <td>214744673</td>\n",
       "      <td>1510358400000</td>\n",
       "      <td>134.141.5.104</td>\n",
       "      <td>134.141.72.72/</td>\n",
       "      <td>CLIENT</td>\n",
       "      <td>Salem NH</td>\n",
       "      <td>134.141.104.103/maeq6510-1/ctl0-eth1/iscsi2 (t...</td>\n",
       "      <td>\\N</td>\n",
       "      <td>Server iSCSI Node</td>\n",
       "      <td>NaN</td>\n",
       "      <td>\\N</td>\n",
       "      <td>\\N</td>\n",
       "    </tr>\n",
       "    <tr>\n",
       "      <th>2</th>\n",
       "      <td>214744674</td>\n",
       "      <td>1510358400000</td>\n",
       "      <td>134.141.5.104</td>\n",
       "      <td>134.141.79.192/</td>\n",
       "      <td>SERVER</td>\n",
       "      <td>Salem NH</td>\n",
       "      <td>\\N</td>\n",
       "      <td>\\N</td>\n",
       "      <td>\\N</td>\n",
       "      <td>\\N</td>\n",
       "      <td>\\N</td>\n",
       "      <td>\\N</td>\n",
       "    </tr>\n",
       "    <tr>\n",
       "      <th>3</th>\n",
       "      <td>214744675</td>\n",
       "      <td>1510358400000</td>\n",
       "      <td>134.141.5.104</td>\n",
       "      <td>10.51.1.154/</td>\n",
       "      <td>SERVER</td>\n",
       "      <td>Other Corporate Labs</td>\n",
       "      <td>\\N</td>\n",
       "      <td>\\N</td>\n",
       "      <td>\\N</td>\n",
       "      <td>\\N</td>\n",
       "      <td>\\N</td>\n",
       "      <td>\\N</td>\n",
       "    </tr>\n",
       "    <tr>\n",
       "      <th>4</th>\n",
       "      <td>214744676</td>\n",
       "      <td>1510358400000</td>\n",
       "      <td>134.141.5.104</td>\n",
       "      <td>134.141.90.41/eospina-pc</td>\n",
       "      <td>CLIENT</td>\n",
       "      <td>Salem NH</td>\n",
       "      <td>134.141.104.209/2-78 Gray (ge.4.6)</td>\n",
       "      <td>Windows</td>\n",
       "      <td>Allow Exteneded Access Salem</td>\n",
       "      <td>CORP\\\\daveh</td>\n",
       "      <td>\\N</td>\n",
       "      <td>\\N</td>\n",
       "    </tr>\n",
       "  </tbody>\n",
       "</table>\n",
       "</div>"
      ],
      "text/plain": [
       "   attribute_id     time_stamp         source            target_address  \\\n",
       "0     214744672  1510358400000  134.141.5.104          134.141.168.108/   \n",
       "1     214744673  1510358400000  134.141.5.104            134.141.72.72/   \n",
       "2     214744674  1510358400000  134.141.5.104           134.141.79.192/   \n",
       "3     214744675  1510358400000  134.141.5.104              10.51.1.154/   \n",
       "4     214744676  1510358400000  134.141.5.104  134.141.90.41/eospina-pc   \n",
       "\n",
       "  target_type              location  \\\n",
       "0      SERVER              Salem NH   \n",
       "1      CLIENT              Salem NH   \n",
       "2      SERVER              Salem NH   \n",
       "3      SERVER  Other Corporate Labs   \n",
       "4      CLIENT              Salem NH   \n",
       "\n",
       "                                   detailed_location device_type  \\\n",
       "0  134.141.102.17/+maclsql1a/134.141.168.108/eth1...          \\N   \n",
       "1  134.141.104.103/maeq6510-1/ctl0-eth1/iscsi2 (t...          \\N   \n",
       "2                                                 \\N          \\N   \n",
       "3                                                 \\N          \\N   \n",
       "4                 134.141.104.209/2-78 Gray (ge.4.6)     Windows   \n",
       "\n",
       "                        profile     username user_data1 user_data2  \n",
       "0           Server Farm Default          NaN         \\N         \\N  \n",
       "1             Server iSCSI Node          NaN         \\N         \\N  \n",
       "2                            \\N           \\N         \\N         \\N  \n",
       "3                            \\N           \\N         \\N         \\N  \n",
       "4  Allow Exteneded Access Salem  CORP\\\\daveh         \\N         \\N  "
      ]
     },
     "execution_count": 20,
     "metadata": {},
     "output_type": "execute_result"
    }
   ],
   "source": [
    "pd_df.head()"
   ]
  },
  {
   "cell_type": "code",
   "execution_count": 12,
   "metadata": {
    "collapsed": true,
    "scrolled": true
   },
   "outputs": [],
   "source": [
    "\n",
    "df =spark.read.csv(\n",
    "    \"appid_attribute_full_final.csv\", header=True, mode=\"DROPMALFORMED\"\n",
    ")"
   ]
  },
  {
   "cell_type": "markdown",
   "metadata": {
    "collapsed": true
   },
   "source": [
    "### Reading parquet with mension size"
   ]
  },
  {
   "cell_type": "code",
   "execution_count": 2,
   "metadata": {
    "collapsed": true
   },
   "outputs": [],
   "source": [
    "from pyspark.sql import SparkSession\n",
    "import datetime\n",
    "# initialise sparkContext\n",
    "spark = SparkSession.builder \\\n",
    "    .master('local') \\\n",
    "    .appName('p7_sample') \\\n",
    "    .config('spark.executor.memory', '24gb') \\\n",
    "    .config(\"spark.cores.max\", \"16\") \\\n",
    "    .getOrCreate()\n",
    "\n",
    "sc = spark.sparkContext\n",
    "\n",
    "# using SQLContext to read parquet file\n",
    "from pyspark.sql import SQLContext\n",
    "sqlContext = SQLContext(sc)\n"
   ]
  },
  {
   "cell_type": "code",
   "execution_count": 3,
   "metadata": {
    "collapsed": true
   },
   "outputs": [],
   "source": [
    "# to read parquet file\n",
    "df = sqlContext.read.parquet('appid_datapoint_parquet1')"
   ]
  },
  {
   "cell_type": "code",
   "execution_count": 13,
   "metadata": {},
   "outputs": [
    {
     "name": "stdout",
     "output_type": "stream",
     "text": [
      "0:00:00.069382\n"
     ]
    }
   ],
   "source": [
    "t1 = datetime.datetime.now()\n",
    "\n",
    "df1 = df[(df.source =='10.6.1.101') & (df.application =='DNS') ]\n",
    "t2 = datetime.datetime.now()\n",
    "print((str(t2-t1)))"
   ]
  },
  {
   "cell_type": "code",
   "execution_count": 14,
   "metadata": {
    "scrolled": true
   },
   "outputs": [
    {
     "data": {
      "text/plain": [
       "[Row(time_stamp=1511780400000, source='10.6.1.101', zone='\\\\N', target_address='10.6.16.123/', application='DNS', applicationgroup='Protocols', target_attribute_id=218165898, byte_count=0, tx_byte_count=0, rx_byte_count=0, flow_count=0, tx_flow_count=0, rx_flow_count=0, tcp_rsp_time=0, app_rsp_time=0, user_data='\\\\N'),\n",
       " Row(time_stamp=1511780400000, source='10.6.1.101', zone='\\\\N', target_address='10.6.16.32/', application='DNS', applicationgroup='Protocols', target_attribute_id=218165899, byte_count=73951948, tx_byte_count=46738951, rx_byte_count=27212997, flow_count=492880, tx_flow_count=246326, rx_flow_count=246554, tcp_rsp_time=224, app_rsp_time=244753, user_data='\\\\N'),\n",
       " Row(time_stamp=1511780400000, source='10.6.1.101', zone='\\\\N', target_address='10.6.25.30/', application='DNS', applicationgroup='Protocols', target_attribute_id=218165900, byte_count=42292759, tx_byte_count=17802393, rx_byte_count=24490366, flow_count=235158, tx_flow_count=118308, rx_flow_count=116850, tcp_rsp_time=131, app_rsp_time=304750, user_data='\\\\N'),\n",
       " Row(time_stamp=1511780400000, source='10.6.1.101', zone='\\\\N', target_address='10.6.25.122/', application='DNS', applicationgroup='Protocols', target_attribute_id=218165901, byte_count=0, tx_byte_count=0, rx_byte_count=0, flow_count=0, tx_flow_count=0, rx_flow_count=0, tcp_rsp_time=0, app_rsp_time=0, user_data='\\\\N'),\n",
       " Row(time_stamp=1511780400000, source='10.6.1.101', zone='\\\\N', target_address='134.141.16.91/', application='DNS', applicationgroup='Protocols', target_attribute_id=218165902, byte_count=0, tx_byte_count=0, rx_byte_count=0, flow_count=0, tx_flow_count=0, rx_flow_count=0, tcp_rsp_time=0, app_rsp_time=0, user_data='\\\\N')]"
      ]
     },
     "execution_count": 14,
     "metadata": {},
     "output_type": "execute_result"
    }
   ],
   "source": [
    "df1.head(5)"
   ]
  },
  {
   "cell_type": "code",
   "execution_count": 15,
   "metadata": {
    "collapsed": true
   },
   "outputs": [],
   "source": [
    "ts = df1.select('time_stamp').collect()"
   ]
  },
  {
   "cell_type": "code",
   "execution_count": 16,
   "metadata": {},
   "outputs": [
    {
     "data": {
      "text/plain": [
       "Row(time_stamp=1511780400000)"
      ]
     },
     "execution_count": 16,
     "metadata": {},
     "output_type": "execute_result"
    }
   ],
   "source": [
    "ts[0]"
   ]
  },
  {
   "cell_type": "code",
   "execution_count": 17,
   "metadata": {},
   "outputs": [
    {
     "data": {
      "text/plain": [
       "1511780400000"
      ]
     },
     "execution_count": 17,
     "metadata": {},
     "output_type": "execute_result"
    }
   ],
   "source": [
    "ts[0].time_stamp"
   ]
  },
  {
   "cell_type": "code",
   "execution_count": 22,
   "metadata": {},
   "outputs": [
    {
     "name": "stdout",
     "output_type": "stream",
     "text": [
      "0:01:03.984618\n"
     ]
    }
   ],
   "source": [
    "t1 = datetime.datetime.now()\n",
    "\n",
    "ts = df1.select('time_stamp').collect()\n",
    "ts_array = [int(i.time_stamp) for i in ts]\n",
    "y = df1.select('app_rsp_time').collect()\n",
    "y_array = [int(i.app_rsp_time) for i in y]\n",
    "\n",
    "t2 = datetime.datetime.now()\n",
    "print((str(t2-t1)))"
   ]
  },
  {
   "cell_type": "code",
   "execution_count": 23,
   "metadata": {
    "collapsed": true
   },
   "outputs": [],
   "source": [
    "import pandas as pd\n",
    "df2 = pd.DataFrame({'ds':ts_array,'y':y_array})"
   ]
  },
  {
   "cell_type": "code",
   "execution_count": 27,
   "metadata": {
    "collapsed": true
   },
   "outputs": [],
   "source": [
    "#dates = df2.ds.astype(int)\n",
    "dates_outlook =pd.to_datetime(pd.Series(ts_array),unit='ms')"
   ]
  },
  {
   "cell_type": "markdown",
   "metadata": {},
   "source": [
    "## Parallel processing"
   ]
  },
  {
   "cell_type": "code",
   "execution_count": 26,
   "metadata": {
    "collapsed": true
   },
   "outputs": [],
   "source": [
    "import multiprocessing as mp\n",
    "from joblib import Parallel, delayed"
   ]
  },
  {
   "cell_type": "code",
   "execution_count": null,
   "metadata": {
    "collapsed": true
   },
   "outputs": [],
   "source": [
    "pool = Parallel(n_jobs=-1,verbose=5,pre_dispatch='all')\n",
    "results = pool(delayed(get_sentance_score)(doc,data_all,IG_all,bench_median_len,bench_median_len_G) for doc in doc_list) #doc_list[0:50000]\n"
   ]
  }
 ],
 "metadata": {
  "kernelspec": {
   "display_name": "Python 3",
   "language": "python",
   "name": "python3"
  },
  "language_info": {
   "codemirror_mode": {
    "name": "ipython",
    "version": 3
   },
   "file_extension": ".py",
   "mimetype": "text/x-python",
   "name": "python",
   "nbconvert_exporter": "python",
   "pygments_lexer": "ipython3",
   "version": "3.6.3"
  }
 },
 "nbformat": 4,
 "nbformat_minor": 2
}
