{
 "cells": [
  {
   "cell_type": "markdown",
   "metadata": {},
   "source": [
    "# P1 parellel processing"
   ]
  },
  {
   "cell_type": "code",
   "execution_count": 1,
   "metadata": {
    "collapsed": true
   },
   "outputs": [],
   "source": [
    "from pyspark.sql import SQLContext\n",
    "import pandas as pd\n",
    "import pymysql\n",
    "import warnings\n",
    "warnings.filterwarnings(\"ignore\")\n",
    "from datetime import datetime, timedelta\n",
    "import logging\n",
    "from tqdm import tqdm\n",
    "from fbprophet import Prophet\n",
    "from sklearn.metrics import mean_squared_error as mse\n",
    "import math\n",
    "\n",
    "## Logging ##\n",
    "\n",
    "import os\n",
    "import sys\n",
    "\n",
    "\n",
    "from pyspark.context import SparkContext\n",
    "from pyspark.sql.session import SparkSession\n",
    "import os\n",
    "import pandas as pd\n",
    "\n",
    "from pyspark.sql import SparkSession\n",
    "import datetime\n",
    "# initialise sparkContext\n",
    "spark1 = SparkSession.builder \\\n",
    "    .master('local') \\\n",
    "    .appName('p7_sample') \\\n",
    "    .config('spark.executor.memory', '24gb') \\\n",
    "    .config(\"spark.cores.max\", \"16\") \\\n",
    "    .getOrCreate()\n",
    "\n",
    "sc = spark1.sparkContext\n",
    "\n",
    "# using SQLContext to read parquet file\n",
    "from pyspark.sql import SQLContext\n",
    "sqlContext = SQLContext(sc)\n",
    "\n"
   ]
  },
  {
   "cell_type": "code",
   "execution_count": 2,
   "metadata": {},
   "outputs": [],
   "source": [
    "def create_prophet_m(app_name,z1):\n",
    "    \n",
    "    ### --- For realtime pred ---###\n",
    "    \n",
    "    full_df = z1.app_rsp_time.iloc[0:len(z1)]\n",
    "    full_df = full_df.reset_index()\n",
    "    full_df.columns = ['ds','y']\n",
    "    \n",
    "    #-- Realtime prediction --##\n",
    "    #model \n",
    "    model_r = Prophet(yearly_seasonality=False,changepoint_prior_scale=.2)\n",
    "    model_r.fit(full_df)\n",
    "    future_r = model_r.make_future_dataframe(periods=24,freq='H')\n",
    "    forecast_r = model_r.predict(future_r)\n",
    "    forecast_r.index = forecast_r['ds']\n",
    "    #forecast \n",
    "    pred_r = pd.DataFrame(forecast_r['yhat'][len(z1):(len(z1)+24)])\n",
    "    pred_r=pred_r.reset_index()\n",
    "    #--- completes realtime pred ---#\n",
    "    \n",
    "    train_end_index=len(z1.app_rsp_time)-24\n",
    "    train_df=z1.app_rsp_time.iloc[0:train_end_index]\n",
    "    #train_df= train_df[train_df<cutter]\n",
    "    \n",
    "    \n",
    "    test_df=z1.app_rsp_time.iloc[train_end_index:len(z1)]\n",
    "    \n",
    "    \n",
    "    \n",
    "    train_df=train_df.reset_index()\n",
    "    test_df=test_df.reset_index()\n",
    "    train_df.columns=['ds','y']\n",
    "    \n",
    "    #--- removing outliers in trainset  ---#\n",
    "    \n",
    "    q50 = train_df.y.median()\n",
    "    q100 = train_df.y.quantile(1)\n",
    "    q75  = train_df.y.quantile(.75)\n",
    "    #print(max(train_df.y))\n",
    "    if((q100-q50) >= (2*q50)):\n",
    "        print('ind')\n",
    "        train_df.loc[train_df.y>=(2*q50),'y'] = None\n",
    "    \n",
    "    test_df.columns=['ds','y']\n",
    "    \n",
    "    #model \n",
    "    model = Prophet(yearly_seasonality=False,changepoint_prior_scale=.2)\n",
    "    model.fit(train_df)\n",
    "    future = model.make_future_dataframe(periods=len(test_df),freq='H')\n",
    "    forecast = model.predict(future)\n",
    "    forecast.index = forecast['ds']\n",
    "    #forecast \n",
    "    pred = pd.DataFrame(forecast['yhat'][train_end_index:len(z1)])\n",
    "    pred=pred.reset_index()\n",
    "    pred_df=pd.merge(test_df,pred,on='ds',how='left')\n",
    "    pred_df.dropna(inplace=True)\n",
    "    \n",
    "    df=pd.DataFrame()\n",
    "    \n",
    "    if(len(pred_df)>0):\n",
    "        \n",
    "        pred_df['error_test']=pred_df.y-pred_df.yhat\n",
    "    \n",
    "        \n",
    "    \n",
    "        MSE=mse(pred_df.y,pred_df.yhat)\n",
    "        RMSE=math.sqrt(MSE)\n",
    "        pred_df['APE']=abs(pred_df.error_test*100/pred_df.y)\n",
    "        MAPE=pred_df.APE.mean()\n",
    "        print(\"App name:\",app_name)\n",
    "        print(\"MSE  :\",MSE)\n",
    "        print(\"RMSE :\",RMSE)\n",
    "        print(\"MAPE :\",MAPE)\n",
    "        #print(\"RMSE from mean :\",mean_RMSE)\n",
    "        #print(\"MAPE from mean :\",mean_MAPE)\n",
    "    \n",
    "        #print(pred_df.head())\n",
    "        q98=pred_df['APE'].quantile(0.98)\n",
    "        mape_q98=pred_df['APE'][pred_df.APE<pred_df['APE'].quantile(0.98)].mean()\n",
    "\n",
    "        df = pd.DataFrame({'length':len(z1),#'predicted_t':[forcast_lag],\n",
    "                             'test_rmse':RMSE,\n",
    "                             'test_mape':MAPE,\n",
    "                 #'test_ape_98':q98,\n",
    "                 'test_mape_98':mape_q98},\n",
    "                      #'rmse_by_mean':mean_RMSE,\n",
    "                      #'mape_by_mean':mean_MAPE}\n",
    "                          index=[app_name])\n",
    "\n",
    "    return(df,model,forecast,pred_df,pred_r)\n",
    "\n",
    "\n"
   ]
  },
  {
   "cell_type": "code",
   "execution_count": 3,
   "metadata": {
    "collapsed": true
   },
   "outputs": [],
   "source": [
    "df = sqlContext.read.parquet('appid_datapoint_parquet1')"
   ]
  },
  {
   "cell_type": "code",
   "execution_count": 4,
   "metadata": {},
   "outputs": [
    {
     "data": {
      "text/plain": [
       "Row(time_stamp=1510801200000, source='134.141.5.104', zone='\\\\N', target_address='10.51.1.95/', application='Sun RPC', applicationgroup='Protocols', target_attribute_id=215904025, byte_count=8776, tx_byte_count=4920, rx_byte_count=3856, flow_count=59, tx_flow_count=29, rx_flow_count=30, tcp_rsp_time=1011, app_rsp_time=3391, user_data='\\\\N')"
      ]
     },
     "execution_count": 4,
     "metadata": {},
     "output_type": "execute_result"
    }
   ],
   "source": [
    "df.head()"
   ]
  },
  {
   "cell_type": "code",
   "execution_count": 5,
   "metadata": {},
   "outputs": [
    {
     "data": {
      "text/plain": [
       "Row(time_stamp=1510801200000, source='134.141.5.104', zone='\\\\N', target_address='134.141.124.10/', application='DNS', applicationgroup='Protocols', target_attribute_id=215904026, byte_count=1350, tx_byte_count=599, rx_byte_count=751, flow_count=12, tx_flow_count=6, rx_flow_count=6, tcp_rsp_time=0, app_rsp_time=68705, user_data='\\\\N')"
      ]
     },
     "execution_count": 5,
     "metadata": {},
     "output_type": "execute_result"
    }
   ],
   "source": [
    "import multiprocessing as mp\n",
    "from joblib import Parallel, delayed\n",
    "a = 'DNS'\n",
    "df1 = df[df.application==a]\n",
    "df1 = df1[df1.app_rsp_time>0]\n",
    "df1.head()"
   ]
  },
  {
   "cell_type": "code",
   "execution_count": 6,
   "metadata": {},
   "outputs": [
    {
     "data": {
      "text/plain": [
       "Row(time_stamp=1510801200000, source='134.141.5.104', zone='\\\\N', target_address='134.141.124.10/', application='DNS', applicationgroup='Protocols', target_attribute_id=215904026, byte_count=1350, tx_byte_count=599, rx_byte_count=751, flow_count=12, tx_flow_count=6, rx_flow_count=6, tcp_rsp_time=0, app_rsp_time=68705, user_data='\\\\N')"
      ]
     },
     "execution_count": 6,
     "metadata": {},
     "output_type": "execute_result"
    }
   ],
   "source": [
    "t1 = datetime.datetime.now()\n",
    "appid_datapoint_10days = df1\n",
    "t2 = datetime.datetime.now()\n",
    "str(t2-t1)\n",
    "appid_datapoint_10days.head()"
   ]
  },
  {
   "cell_type": "code",
   "execution_count": 3,
   "metadata": {
    "collapsed": true
   },
   "outputs": [],
   "source": [
    "app_details = pd.read_csv('app_details.csv')\n",
    "targets = (app_details.loc[(app_details['count']>=1400),:].target_address.value_counts().index)\n",
    "s_list = app_details.source.value_counts().index\n",
    "s = s_list[0]\n",
    "t = targets[0]"
   ]
  },
  {
   "cell_type": "code",
   "execution_count": 8,
   "metadata": {},
   "outputs": [
    {
     "ename": "NameError",
     "evalue": "name 'targets2' is not defined",
     "output_type": "error",
     "traceback": [
      "\u001b[0;31m---------------------------------------------------------------------------\u001b[0m",
      "\u001b[0;31mNameError\u001b[0m                                 Traceback (most recent call last)",
      "\u001b[0;32m<ipython-input-8-c4a62e8c708a>\u001b[0m in \u001b[0;36m<module>\u001b[0;34m()\u001b[0m\n\u001b[0;32m----> 1\u001b[0;31m \u001b[0mtargets2\u001b[0m\u001b[0;34m\u001b[0m\u001b[0m\n\u001b[0m",
      "\u001b[0;31mNameError\u001b[0m: name 'targets2' is not defined"
     ]
    }
   ],
   "source": [
    "targets2"
   ]
  },
  {
   "cell_type": "code",
   "execution_count": 9,
   "metadata": {
    "scrolled": true
   },
   "outputs": [
    {
     "ename": "NameError",
     "evalue": "name 'df2' is not defined",
     "output_type": "error",
     "traceback": [
      "\u001b[0;31m---------------------------------------------------------------------------\u001b[0m",
      "\u001b[0;31mNameError\u001b[0m                                 Traceback (most recent call last)",
      "\u001b[0;32m<ipython-input-9-fe188a821c69>\u001b[0m in \u001b[0;36m<module>\u001b[0;34m()\u001b[0m\n\u001b[0;32m----> 1\u001b[0;31m \u001b[0mdf2\u001b[0m\u001b[0;34m[\u001b[0m\u001b[0mdf2\u001b[0m\u001b[0;34m.\u001b[0m\u001b[0mtarget_address\u001b[0m\u001b[0;34m.\u001b[0m\u001b[0misin\u001b[0m\u001b[0;34m(\u001b[0m\u001b[0mtargets2\u001b[0m\u001b[0;34m)\u001b[0m\u001b[0;34m]\u001b[0m\u001b[0;34m\u001b[0m\u001b[0m\n\u001b[0m",
      "\u001b[0;31mNameError\u001b[0m: name 'df2' is not defined"
     ]
    }
   ],
   "source": [
    "df2[df2.target_address.isin(targets2)]"
   ]
  },
  {
   "cell_type": "code",
   "execution_count": 10,
   "metadata": {},
   "outputs": [
    {
     "name": "stdout",
     "output_type": "stream",
     "text": [
      "0:00:32.689130\n"
     ]
    },
    {
     "data": {
      "text/html": [
       "<div>\n",
       "<style>\n",
       "    .dataframe thead tr:only-child th {\n",
       "        text-align: right;\n",
       "    }\n",
       "\n",
       "    .dataframe thead th {\n",
       "        text-align: left;\n",
       "    }\n",
       "\n",
       "    .dataframe tbody tr th {\n",
       "        vertical-align: top;\n",
       "    }\n",
       "</style>\n",
       "<table border=\"1\" class=\"dataframe\">\n",
       "  <thead>\n",
       "    <tr style=\"text-align: right;\">\n",
       "      <th></th>\n",
       "      <th>app_rsp_time</th>\n",
       "      <th>ds</th>\n",
       "    </tr>\n",
       "  </thead>\n",
       "  <tbody>\n",
       "  </tbody>\n",
       "</table>\n",
       "</div>"
      ],
      "text/plain": [
       "Empty DataFrame\n",
       "Columns: [app_rsp_time, ds]\n",
       "Index: []"
      ]
     },
     "execution_count": 10,
     "metadata": {},
     "output_type": "execute_result"
    }
   ],
   "source": [
    "from tqdm import tqdm\n",
    "temp2 = appid_datapoint_10days[(appid_datapoint_10days.source==s) & (appid_datapoint_10days.target_address==t)]\n",
    "t1 = datetime.datetime.now()\n",
    "\n",
    "ts = temp2.select('time_stamp').collect()\n",
    "ts_array = [int(i.time_stamp) for i in ts]\n",
    "y = temp2.select('app_rsp_time').collect()\n",
    "y_array = [int(i.app_rsp_time) for i in y]\n",
    "\n",
    "t2 = datetime.datetime.now()\n",
    "print((str(t2-t1)))\n",
    "dates_outlook = pd.to_datetime(pd.Series(ts_array),unit='ms')\n",
    "df2 = pd.DataFrame({'ds':ts_array,'app_rsp_time':y_array})\n",
    "df2.index = dates_outlook  \n",
    "df2.head()"
   ]
  },
  {
   "cell_type": "code",
   "execution_count": 11,
   "metadata": {},
   "outputs": [
    {
     "data": {
      "text/plain": [
       "Row(time_stamp=1510801200000, source='134.141.5.104', zone='\\\\N', target_address='134.141.124.10/', application='DNS', applicationgroup='Protocols', target_attribute_id=215904026, byte_count=1350, tx_byte_count=599, rx_byte_count=751, flow_count=12, tx_flow_count=6, rx_flow_count=6, tcp_rsp_time=0, app_rsp_time=68705, user_data='\\\\N')"
      ]
     },
     "execution_count": 11,
     "metadata": {},
     "output_type": "execute_result"
    }
   ],
   "source": [
    "df1.head()"
   ]
  },
  {
   "cell_type": "code",
   "execution_count": 12,
   "metadata": {},
   "outputs": [
    {
     "name": "stdout",
     "output_type": "stream",
     "text": [
      "0:06:59.749956\n"
     ]
    }
   ],
   "source": [
    "        t1 = datetime.datetime.now()\n",
    "\n",
    "        ts = df1.select('time_stamp').collect()\n",
    "        ts_array = [int(i.time_stamp) for i in ts]\n",
    "        y = df1.select('app_rsp_time').collect()\n",
    "        y_array = [int(i.app_rsp_time) for i in y]\n",
    "        ss = df1.select('source').collect()\n",
    "        s_array = [str(i.source) for i in ss]\n",
    "        ta = df1.select('target_address').collect()\n",
    "        ta_array = [str(i.target_address) for i in ta]\n",
    "        aa = df1.select('application').collect()\n",
    "        a_array = [str(i.application) for i in aa]\n",
    "\n",
    "        \n",
    "        dates_outlook = pd.to_datetime(pd.Series(ts_array),unit='ms')\n",
    "        \n",
    "        df2 = pd.DataFrame({'ds':ts_array,'app_rsp_time':y_array,'application':a_array,\n",
    "                           'source':s_array,'target_address':ta_array})\n",
    "        df2.index = dates_outlook\n",
    "        df2 = df2[df2.app_rsp_time!=0]\n",
    "        t2 = datetime.datetime.now()\n",
    "        print((str(t2-t1)))"
   ]
  },
  {
   "cell_type": "code",
   "execution_count": 13,
   "metadata": {},
   "outputs": [
    {
     "data": {
      "text/plain": [
       "5622539"
      ]
     },
     "execution_count": 13,
     "metadata": {},
     "output_type": "execute_result"
    }
   ],
   "source": [
    "len(df2)"
   ]
  },
  {
   "cell_type": "code",
   "execution_count": null,
   "metadata": {
    "collapsed": true
   },
   "outputs": [],
   "source": []
  },
  {
   "cell_type": "code",
   "execution_count": 15,
   "metadata": {},
   "outputs": [],
   "source": [
    "#temp = appid_datapoint_10days[appid_datapoint_10days.source==s]\n",
    "\n",
    "def forapp(t,s,df3):\n",
    "    \n",
    "    q1 = datetime.datetime.now()\n",
    "    #for a in tqdm(a_list[0:1]):\n",
    "    \n",
    "    qt1 = datetime.datetime.now()\n",
    "    \n",
    "    \n",
    "    qt2 = datetime.datetime.now()\n",
    "    query_time = str(qt2-qt1)\n",
    "    \n",
    "    # run for all combinations\n",
    "\n",
    "\n",
    "    prophet_df = pd.DataFrame()\n",
    "    prophet_analysis_df = pd.DataFrame()\n",
    "    prophet_future_df = pd.DataFrame()\n",
    "   \n",
    "    \n",
    "    #for i in tqdm(range(0,len(t_list))):\n",
    "        \n",
    "    #t = t_list[i]\n",
    "        #temp1 = temp[temp.target_address==t]\n",
    "    #for s in tqdm(s_list):\n",
    "    #if(1):\n",
    "            \n",
    "    temp2 = df3[(df3.target_address==t)]\n",
    "        \n",
    "        #temp2 = temp[(temp.target_address==t)]\n",
    "    t1 = datetime.datetime.now()\n",
    "\n",
    "        #ts = temp2.select('time_stamp').collect()\n",
    "        #ts_array = [int(i.time_stamp) for i in ts]\n",
    "        #y = temp2.select('app_rsp_time').collect()\n",
    "        #y_array = [int(i.app_rsp_time) for i in y]\n",
    "\n",
    "    #t2 = datetime.datetime.now()\n",
    "    #print((str(t2-t1)))\n",
    "        #dates_outlook = pd.to_datetime(pd.Series(ts_array),unit='ms')\n",
    "        \n",
    "        #df2 = pd.DataFrame({'ds':ts_array,'app_rsp_time':y_array})\n",
    "        #df2.index = dates_outlook\n",
    "        #df2 = df2[df2.app_rsp_time!=0]\n",
    "        #df2 = df2.dropna()\n",
    "    if(len(temp2)>1400):\n",
    "            \n",
    "        t2 = datetime.datetime.now()\n",
    "            \n",
    "        ew_prophet,ew_model,ew_forcast,ew_pred_df,pred_r =(create_prophet_m(a,temp2))\n",
    "        t2 = datetime.datetime.now()\n",
    "        print('time for prophet modelling',(str(t2-t1)))\n",
    "        print('time for prophet modelling',(str(t2-t1)))\n",
    "        ew_pred_df['application'] = a\n",
    "        ew_pred_df['target'] = t\n",
    "        ew_pred_df['source'] = s\n",
    "            \n",
    "        pred_r['application'] = a\n",
    "        pred_r['target'] = t\n",
    "        pred_r['source'] = s\n",
    "        \n",
    "        ew_prophet['target'] = t\n",
    "        ew_prophet['source'] = s\n",
    "        ew_prophet['application'] = a\n",
    "            \n",
    "        prophet_df = prophet_df.append(ew_pred_df)  \n",
    "        prophet_analysis_df = prophet_analysis_df.append(ew_prophet)\n",
    "        prophet_future_df = prophet_future_df.append(pred_r)\n",
    "        \n",
    "    qt3 = datetime.datetime.now()\n",
    "    print('time for all calculation', str(qt3-qt1))\n",
    "    prophet_df.to_csv(\"parallel_test/p1_eval_\"+s+\"_\"+t.replace(\"/\",\"\")+\"_.csv\")\n",
    "    #prophet_analysis_df.to_csv('parallel_test/p1_analysis_'+s+'_'+t+'.csv')\n",
    "    #prophet_future_df.to_csv('parallel_test/p1_forecast_'+s+'_'+t+'.csv')\n",
    "    \n",
    "    return prophet_df, prophet_analysis_df, prophet_future_df"
   ]
  },
  {
   "cell_type": "code",
   "execution_count": 20,
   "metadata": {},
   "outputs": [
    {
     "data": {
      "text/plain": [
       "str"
      ]
     },
     "execution_count": 20,
     "metadata": {},
     "output_type": "execute_result"
    }
   ],
   "source": [
    "type(s)"
   ]
  },
  {
   "cell_type": "code",
   "execution_count": 21,
   "metadata": {
    "scrolled": true
   },
   "outputs": [
    {
     "name": "stdout",
     "output_type": "stream",
     "text": [
      "time for all calculation 0:00:00.001604\n"
     ]
    },
    {
     "data": {
      "text/plain": [
       "'0:00:00.910521'"
      ]
     },
     "execution_count": 21,
     "metadata": {},
     "output_type": "execute_result"
    }
   ],
   "source": [
    "\n",
    "t1 = datetime.datetime.now()\n",
    "t = targets[0]\n",
    "s = s_list[0]\n",
    "a1,a2,a3=forapp(t,s,df2[(df2.source==s) & (df2.target_address==t)])\n",
    "t2 = datetime.datetime.now()\n",
    "str(t2-t1)"
   ]
  },
  {
   "cell_type": "code",
   "execution_count": 49,
   "metadata": {
    "scrolled": true
   },
   "outputs": [],
   "source": [
    "#t1 = datetime.datetime.now()\n",
    "#targets2 = targets[0:7]\n",
    "#pool = Parallel(n_jobs=-1,verbose=5,pre_dispatch='all')\n",
    "#results = pool(delayed(forapp)(t,df2) for t in targets2) #doc_list[0:50000]\n",
    "#t2 = datetime.datetime.now()\n",
    "#print((str(t2-t1)))"
   ]
  },
  {
   "cell_type": "code",
   "execution_count": 58,
   "metadata": {
    "scrolled": true
   },
   "outputs": [
    {
     "name": "stderr",
     "output_type": "stream",
     "text": [
      "\n",
      "\n",
      "\n",
      "\n",
      "\n",
      "\n",
      "\n",
      "\n",
      "\n",
      "\n",
      "\n",
      "\n",
      "\n",
      "\n",
      "\n",
      "\n",
      "\n",
      "  0%|          | 0/7 [00:00<?, ?it/s]\u001b[A"
     ]
    },
    {
     "name": "stdout",
     "output_type": "stream",
     "text": [
      "time for all calculation 0:00:00.236769\n"
     ]
    },
    {
     "name": "stderr",
     "output_type": "stream",
     "text": [
      "[Parallel(n_jobs=-1)]: Done   1 out of  16 | elapsed:    8.1s remaining:  2.0min\n",
      "\n",
      "Exception in thread Thread-51:\n",
      "Traceback (most recent call last):\n",
      "  File \"/root/anaconda3/lib/python3.6/threading.py\", line 916, in _bootstrap_inner\n",
      "    self.run()\n",
      "  File \"/root/anaconda3/lib/python3.6/site-packages/tqdm/_tqdm.py\", line 148, in run\n",
      "    for instance in self.tqdm_cls._instances:\n",
      "  File \"/root/anaconda3/lib/python3.6/_weakrefset.py\", line 60, in __iter__\n",
      "    for itemref in self.data:\n",
      "RuntimeError: Set changed size during iteration\n",
      "\n"
     ]
    },
    {
     "name": "stdout",
     "output_type": "stream",
     "text": [
      "time for all calculation 0:00:00.268729\n",
      "time for all calculation 0:00:00.202933\n",
      "time for all calculation 0:00:00.211868\n",
      "ind\n",
      "time for all calculation 0:00:00.536098\n",
      "App name: DNS\n",
      "MSE  : 164520509.05160066\n",
      "RMSE : 12826.554839535076\n",
      "MAPE : 30.14549733640986\n",
      "time for prophet modelling 0:00:14.848162\n",
      "time for all calculation 0:00:15.089876\n"
     ]
    },
    {
     "name": "stderr",
     "output_type": "stream",
     "text": [
      "[Parallel(n_jobs=-1)]: Done   5 out of  16 | elapsed:   38.4s remaining:  1.4min\n"
     ]
    },
    {
     "name": "stdout",
     "output_type": "stream",
     "text": [
      "time for all calculation 0:00:00.253389\n",
      "App name: DNS\n",
      "time for all calculation 0:00:15.407158\n",
      "MSE  : 17406811114.6471\n",
      "RMSE : 131934.87452014763\n",
      "MAPE : 120.15496619597349\n",
      "time for prophet modelling 0:00:15.158047\n",
      "ind\n",
      "ind\n",
      "App name: DNS\n",
      "MSE  : 535023109.6615494\n",
      "RMSE : 23130.56656594363\n",
      "MAPE : 41.65466548078479\n",
      "time for prophet modelling 0:00:15.330686\n",
      "time for all calculation 0:00:15.563921\n",
      "ind\n"
     ]
    },
    {
     "name": "stderr",
     "output_type": "stream",
     "text": [
      "[Parallel(n_jobs=-1)]: Done   9 out of  16 | elapsed:  1.1min remaining:   49.8s\n"
     ]
    },
    {
     "name": "stdout",
     "output_type": "stream",
     "text": [
      "App name: DNS\n",
      "ind\n",
      "MSE  : 2171985.872939381\n",
      "RMSE : 1473.7658813188004\n",
      "MAPE : 36.650539088282585\n",
      "time for prophet modelling 0:00:16.557346\n",
      "time for all calculation 0:00:16.901622\n",
      "App name: DNS\n",
      "time for all calculation 0:00:17.653059\n",
      "MSE  : 543893108.7126563\n",
      "RMSE : 23321.51600373904\n",
      "MAPE : 24.827632916796134\n",
      "time for prophet modelling 0:00:17.140829\n",
      "App name: DNS\n",
      "time for all calculation 0:00:16.377404\n",
      "MSE  : 5173120.0990341855\n",
      "RMSE : 2274.4494056879316\n",
      "MAPE : 7.18583571130714\n",
      "time for prophet modelling 0:00:16.045331\n",
      "ind\n",
      "time for all calculation 0:00:00.615888\n"
     ]
    },
    {
     "name": "stderr",
     "output_type": "stream",
     "text": [
      "[Parallel(n_jobs=-1)]: Done  13 out of  16 | elapsed:  1.4min remaining:   19.5s\n"
     ]
    },
    {
     "name": "stdout",
     "output_type": "stream",
     "text": [
      "App name: DNS\n",
      "MSE  : 92740119.43480888\n",
      "RMSE : 9630.167155081415\n",
      "MAPE : 15.434387892837094\n",
      "time for prophet modelling 0:00:18.353034\n",
      "time for all calculation 0:00:18.629006\n",
      "ind\n",
      "App name: DNS\n",
      "MSE  : 31534.85769869142\n",
      "RMSE : 177.58056678221132\n",
      "MAPE : 1.8366463107914455\n",
      "time for prophet modelling 0:00:17.865593\n",
      "time for all calculation 0:00:18.203525\n",
      "App name: DNS\n",
      "MSE  : 11346281.814771898\n",
      "RMSE : 3368.4242331944915\n",
      "MAPE : 7.859808947806525\n",
      "time for prophet modelling 0:00:19.433279\n",
      "time for all calculation 0:00:19.709583\n"
     ]
    },
    {
     "name": "stderr",
     "output_type": "stream",
     "text": [
      "[Parallel(n_jobs=-1)]: Done  16 out of  16 | elapsed:  1.6min finished\n",
      "\r",
      " 14%|█▍        | 1/7 [01:39<09:59, 99.93s/it]"
     ]
    },
    {
     "name": "stdout",
     "output_type": "stream",
     "text": [
      "time for all calculation 0:00:00.106639\n"
     ]
    },
    {
     "name": "stderr",
     "output_type": "stream",
     "text": [
      "[Parallel(n_jobs=-1)]: Done   1 out of  16 | elapsed:    4.0s remaining:   59.6s\n"
     ]
    },
    {
     "name": "stdout",
     "output_type": "stream",
     "text": [
      "time for all calculation 0:00:00.108413\n",
      "time for all calculation 0:00:00.111846\n",
      "time for all calculation 0:00:00.109421\n",
      "time for all calculation 0:00:00.109235\n",
      "ind\n"
     ]
    },
    {
     "name": "stderr",
     "output_type": "stream",
     "text": [
      "[Parallel(n_jobs=-1)]: Done   5 out of  16 | elapsed:   17.5s remaining:   38.4s\n"
     ]
    },
    {
     "name": "stdout",
     "output_type": "stream",
     "text": [
      "time for all calculation 0:00:00.234056\n",
      "App name: DNS\n",
      "time for all calculation 0:00:13.910139\n",
      "MSE  : 16449.643817918117\n",
      "RMSE : 128.25616483396857\n",
      "MAPE : 36.86368651543738\n",
      "time for prophet modelling 0:00:13.781527\n",
      "ind\n",
      "time for all calculation 0:00:19.073053\n",
      "App name: DNS\n",
      "MSE  : 32038489742.9949\n",
      "RMSE : 178992.987971582\n",
      "MAPE : 4.151151712560918\n",
      "time for prophet modelling 0:00:18.952813\n",
      "ind\n",
      "ind\n",
      "App name: DNS\n",
      "MSE  : 185625583579.92505\n",
      "RMSE : 430842.87574465596\n",
      "MAPE : 158.65628028079624\n",
      "time for prophet modelling 0:00:24.227598\n",
      "time for all calculation 0:00:24.481337\n"
     ]
    },
    {
     "name": "stderr",
     "output_type": "stream",
     "text": [
      "[Parallel(n_jobs=-1)]: Done   9 out of  16 | elapsed:   45.9s remaining:   35.7s\n"
     ]
    },
    {
     "name": "stdout",
     "output_type": "stream",
     "text": [
      "ind\n",
      "time for all calculation 0:00:00.329242\n",
      "App name: DNS\n",
      "MSE  : 78854997748.00883\n",
      "RMSE : 280811.3205481731\n",
      "MAPE : 57.78836075142724\n",
      "time for prophet modelling 0:00:24.558676\n",
      "time for all calculation 0:00:24.756421\n",
      "App name: DNS\n",
      "MSE  : 22789746827.302147\n",
      "RMSE : 150962.7332400356\n",
      "MAPE : 3.265321144723744\n",
      "time for prophet modelling 0:00:33.053120\n",
      "time for all calculation 0:00:33.324928\n",
      "App name: DNS\n",
      "MSE  : 120697.52739975645\n",
      "RMSE : 347.41549677548414\n",
      "MAPE : 40.388760912139574\n",
      "time for prophet modelling 0:00:27.931677\n",
      "time for all calculation 0:00:28.317661\n"
     ]
    },
    {
     "name": "stderr",
     "output_type": "stream",
     "text": [
      "[Parallel(n_jobs=-1)]: Done  13 out of  16 | elapsed:   58.4s remaining:   13.5s\n"
     ]
    },
    {
     "name": "stdout",
     "output_type": "stream",
     "text": [
      "ind\n",
      "ind\n",
      "App name: DNS\n",
      "MSE  : 3171377500154.853\n",
      "RMSE : 1780836.180044322\n",
      "MAPE : 47.29294086256315\n",
      "time for prophet modelling 0:00:26.624846\n",
      "time for all calculation 0:00:26.752673\n",
      "App name: DNS\n",
      "MSE  : 808135.1907845518\n",
      "RMSE : 898.9633979114789\n",
      "MAPE : 4.6585114468675615\n",
      "time for prophet modelling 0:00:25.853248\n",
      "time for all calculation 0:00:26.302865\n",
      "App name: DNS\n",
      "MSE  : 19695.867704883258\n",
      "RMSE : 140.34196701230627\n",
      "MAPE : 29.112735937155758\n",
      "time for prophet modelling 0:00:21.404455\n",
      "time for all calculation 0:00:21.577008\n"
     ]
    },
    {
     "name": "stderr",
     "output_type": "stream",
     "text": [
      "[Parallel(n_jobs=-1)]: Done  16 out of  16 | elapsed:  1.2min finished\n",
      "\r",
      " 29%|██▊       | 2/7 [02:50<07:06, 85.25s/it]"
     ]
    },
    {
     "name": "stdout",
     "output_type": "stream",
     "text": [
      "time for all calculation 0:00:00.015159\n",
      "time for all calculation 0:00:00.012151\n",
      "time for all calculation 0:00:00.011339\n"
     ]
    },
    {
     "name": "stderr",
     "output_type": "stream",
     "text": [
      "[Parallel(n_jobs=-1)]: Done   1 out of  16 | elapsed:    0.2s remaining:    3.6s\n"
     ]
    },
    {
     "name": "stdout",
     "output_type": "stream",
     "text": [
      "time for all calculation 0:00:00.012601\n",
      "time for all calculation 0:00:00.011411\n",
      "time for all calculation 0:00:00.011381\n",
      "time for all calculation 0:00:00.011057\n"
     ]
    },
    {
     "name": "stderr",
     "output_type": "stream",
     "text": [
      "[Parallel(n_jobs=-1)]: Done   5 out of  16 | elapsed:    0.7s remaining:    1.6s\n"
     ]
    },
    {
     "name": "stdout",
     "output_type": "stream",
     "text": [
      "time for all calculation 0:00:00.012425\n",
      "time for all calculation 0:00:00.012158\n",
      "time for all calculation 0:00:00.012603\n",
      "time for all calculation 0:00:00.010227\n"
     ]
    },
    {
     "name": "stderr",
     "output_type": "stream",
     "text": [
      "[Parallel(n_jobs=-1)]: Done   9 out of  16 | elapsed:    1.2s remaining:    1.0s\n"
     ]
    },
    {
     "name": "stdout",
     "output_type": "stream",
     "text": [
      "time for all calculation 0:00:00.013644\n",
      "time for all calculation 0:00:00.012960\n",
      "time for all calculation 0:00:00.012192\n",
      "time for all calculation 0:00:00.012093\n"
     ]
    },
    {
     "name": "stderr",
     "output_type": "stream",
     "text": [
      "[Parallel(n_jobs=-1)]: Done  13 out of  16 | elapsed:    1.7s remaining:    0.4s\n"
     ]
    },
    {
     "name": "stdout",
     "output_type": "stream",
     "text": [
      "time for all calculation 0:00:00.011146\n"
     ]
    },
    {
     "name": "stderr",
     "output_type": "stream",
     "text": [
      "[Parallel(n_jobs=-1)]: Done  16 out of  16 | elapsed:    2.0s finished\n",
      "\r",
      " 43%|████▎     | 3/7 [02:53<03:50, 57.69s/it]"
     ]
    },
    {
     "name": "stdout",
     "output_type": "stream",
     "text": [
      "time for all calculation 0:00:00.025603\n"
     ]
    },
    {
     "name": "stderr",
     "output_type": "stream",
     "text": [
      "[Parallel(n_jobs=-1)]: Done   1 out of  16 | elapsed:    0.6s remaining:    9.5s\n"
     ]
    },
    {
     "name": "stdout",
     "output_type": "stream",
     "text": [
      "time for all calculation 0:00:00.029160\n",
      "time for all calculation 0:00:00.028275\n",
      "time for all calculation 0:00:00.028123\n",
      "time for all calculation 0:00:00.029728\n"
     ]
    },
    {
     "name": "stderr",
     "output_type": "stream",
     "text": [
      "[Parallel(n_jobs=-1)]: Done   5 out of  16 | elapsed:    2.1s remaining:    4.7s\n"
     ]
    },
    {
     "name": "stdout",
     "output_type": "stream",
     "text": [
      "time for all calculation 0:00:00.027792\n",
      "time for all calculation 0:00:00.031705\n",
      "time for all calculation 0:00:00.043423\n",
      "time for all calculation 0:00:00.026963\n"
     ]
    },
    {
     "name": "stderr",
     "output_type": "stream",
     "text": [
      "[Parallel(n_jobs=-1)]: Done   9 out of  16 | elapsed:    3.8s remaining:    2.9s\n"
     ]
    },
    {
     "name": "stdout",
     "output_type": "stream",
     "text": [
      "time for all calculation 0:00:00.027911\n",
      "time for all calculation 0:00:00.029817\n",
      "time for all calculation 0:00:00.031699\n",
      "time for all calculation 0:00:00.031192\n"
     ]
    },
    {
     "name": "stderr",
     "output_type": "stream",
     "text": [
      "[Parallel(n_jobs=-1)]: Done  13 out of  16 | elapsed:    5.5s remaining:    1.3s\n"
     ]
    },
    {
     "name": "stdout",
     "output_type": "stream",
     "text": [
      "time for all calculation 0:00:00.027218\n",
      "time for all calculation 0:00:00.030374\n",
      "time for all calculation 0:00:00.030157\n"
     ]
    },
    {
     "name": "stderr",
     "output_type": "stream",
     "text": [
      "[Parallel(n_jobs=-1)]: Done  16 out of  16 | elapsed:    6.6s finished\n",
      "\r",
      " 57%|█████▋    | 4/7 [03:00<02:15, 45.04s/it]"
     ]
    },
    {
     "name": "stdout",
     "output_type": "stream",
     "text": [
      "time for all calculation 0:00:00.032909\n",
      "time for all calculation 0:00:00.029752\n"
     ]
    },
    {
     "name": "stderr",
     "output_type": "stream",
     "text": [
      "[Parallel(n_jobs=-1)]: Done   1 out of  16 | elapsed:    0.8s remaining:   12.0s\n"
     ]
    },
    {
     "name": "stdout",
     "output_type": "stream",
     "text": [
      "time for all calculation 0:00:00.034769\n",
      "time for all calculation 0:00:00.029322\n",
      "time for all calculation 0:00:00.028836\n"
     ]
    },
    {
     "name": "stderr",
     "output_type": "stream",
     "text": [
      "[Parallel(n_jobs=-1)]: Done   5 out of  16 | elapsed:    2.9s remaining:    6.3s\n"
     ]
    },
    {
     "name": "stdout",
     "output_type": "stream",
     "text": [
      "time for all calculation 0:00:00.032177\n",
      "time for all calculation 0:00:00.030865\n",
      "time for all calculation 0:00:00.029623\n",
      "time for all calculation 0:00:00.030308\n"
     ]
    },
    {
     "name": "stderr",
     "output_type": "stream",
     "text": [
      "[Parallel(n_jobs=-1)]: Done   9 out of  16 | elapsed:    4.6s remaining:    3.6s\n"
     ]
    },
    {
     "name": "stdout",
     "output_type": "stream",
     "text": [
      "time for all calculation 0:00:00.028272\n",
      "time for all calculation 0:00:00.031059\n",
      "time for all calculation 0:00:00.030169\n",
      "time for all calculation 0:00:00.031514\n"
     ]
    },
    {
     "name": "stderr",
     "output_type": "stream",
     "text": [
      "[Parallel(n_jobs=-1)]: Done  13 out of  16 | elapsed:    6.3s remaining:    1.4s\n"
     ]
    },
    {
     "name": "stdout",
     "output_type": "stream",
     "text": [
      "time for all calculation 0:00:00.096503\n",
      "time for all calculation 0:00:00.035585\n",
      "ind\n",
      "time for prophet modelling 0:00:12.576442\n",
      "time for all calculation 0:00:12.614767\n"
     ]
    },
    {
     "name": "stderr",
     "output_type": "stream",
     "text": [
      "[Parallel(n_jobs=-1)]: Done  16 out of  16 | elapsed:   14.9s finished\n",
      "\r",
      " 71%|███████▏  | 5/7 [03:15<01:18, 39.11s/it]"
     ]
    },
    {
     "name": "stdout",
     "output_type": "stream",
     "text": [
      "time for all calculation 0:00:00.015487\n",
      "time for all calculation 0:00:00.019270\n"
     ]
    },
    {
     "name": "stderr",
     "output_type": "stream",
     "text": [
      "[Parallel(n_jobs=-1)]: Done   1 out of  16 | elapsed:    0.3s remaining:    4.5s\n"
     ]
    },
    {
     "name": "stdout",
     "output_type": "stream",
     "text": [
      "time for all calculation 0:00:00.012627\n",
      "time for all calculation 0:00:00.012939\n",
      "time for all calculation 0:00:00.013840\n",
      "time for all calculation 0:00:00.013686\n"
     ]
    },
    {
     "name": "stderr",
     "output_type": "stream",
     "text": [
      "[Parallel(n_jobs=-1)]: Done   5 out of  16 | elapsed:    0.9s remaining:    2.0s\n"
     ]
    },
    {
     "name": "stdout",
     "output_type": "stream",
     "text": [
      "time for all calculation 0:00:00.013159\n",
      "time for all calculation 0:00:00.014953\n",
      "time for all calculation 0:00:00.016970\n",
      "time for all calculation 0:00:00.012595\n"
     ]
    },
    {
     "name": "stderr",
     "output_type": "stream",
     "text": [
      "[Parallel(n_jobs=-1)]: Done   9 out of  16 | elapsed:    1.6s remaining:    1.2s\n"
     ]
    },
    {
     "name": "stdout",
     "output_type": "stream",
     "text": [
      "time for all calculation 0:00:00.015225\n",
      "time for all calculation 0:00:00.014803\n",
      "time for all calculation 0:00:00.014540\n",
      "time for all calculation 0:00:00.013673\n"
     ]
    },
    {
     "name": "stderr",
     "output_type": "stream",
     "text": [
      "[Parallel(n_jobs=-1)]: Done  13 out of  16 | elapsed:    2.2s remaining:    0.5s\n"
     ]
    },
    {
     "name": "stdout",
     "output_type": "stream",
     "text": [
      "time for all calculation 0:00:00.013996\n",
      "time for all calculation 0:00:00.013455\n"
     ]
    },
    {
     "name": "stderr",
     "output_type": "stream",
     "text": [
      "[Parallel(n_jobs=-1)]: Done  16 out of  16 | elapsed:    2.7s finished\n",
      "\r",
      " 86%|████████▌ | 6/7 [03:18<00:33, 33.12s/it]"
     ]
    },
    {
     "name": "stdout",
     "output_type": "stream",
     "text": [
      "time for all calculation 0:00:00.002506\n",
      "time for all calculation 0:00:00.002716\n",
      "time for all calculation 0:00:00.002369\n",
      "time for all calculation 0:00:00.002414\n",
      "time for all calculation 0:00:00.002436\n",
      "time for all calculation 0:00:00.003004\n",
      "time for all calculation 0:00:00.002336\n",
      "time for all calculation 0:00:00.002495\n",
      "time for all calculation 0:00:00.002938\n",
      "time for all calculation 0:00:00.002647\n",
      "time for all calculation 0:00:00.002402\n",
      "time for all calculation 0:00:00.002476\n",
      "time for all calculation 0:00:00.002563\n",
      "time for all calculation 0:00:00.002397\n",
      "time for all calculation 0:00:00.007690\n",
      "time for all calculation 0:00:00.002631\n"
     ]
    },
    {
     "name": "stderr",
     "output_type": "stream",
     "text": [
      "[Parallel(n_jobs=-1)]: Done   1 out of  16 | elapsed:    0.0s remaining:    0.3s\n",
      "[Parallel(n_jobs=-1)]: Done   5 out of  16 | elapsed:    0.0s remaining:    0.1s\n",
      "[Parallel(n_jobs=-1)]: Done   9 out of  16 | elapsed:    0.1s remaining:    0.1s\n",
      "[Parallel(n_jobs=-1)]: Done  13 out of  16 | elapsed:    0.1s remaining:    0.0s\n",
      "[Parallel(n_jobs=-1)]: Done  16 out of  16 | elapsed:    0.1s finished\n",
      "100%|██████████| 7/7 [03:19<00:00, 28.47s/it]\n"
     ]
    },
    {
     "name": "stdout",
     "output_type": "stream",
     "text": [
      "total time  0:03:28.332266\n"
     ]
    }
   ],
   "source": [
    "t4 = datetime.datetime.now()\n",
    "targets2 = targets[0:16]\n",
    "with Parallel(n_jobs=-1,verbose=5,pre_dispatch='all') as pool:\n",
    "    for  s in tqdm(s_list):\n",
    "        df3 = df2[df2.source==s]\n",
    "        results = pool(delayed(forapp)(t,s,df3) for t in targets2) #doc_list[0:50000]\n",
    "t5 = datetime.datetime.now()\n",
    "print('total time ',(str(t5-t4)))"
   ]
  },
  {
   "cell_type": "code",
   "execution_count": 31,
   "metadata": {},
   "outputs": [
    {
     "data": {
      "text/html": [
       "<div>\n",
       "<style>\n",
       "    .dataframe thead tr:only-child th {\n",
       "        text-align: right;\n",
       "    }\n",
       "\n",
       "    .dataframe thead th {\n",
       "        text-align: left;\n",
       "    }\n",
       "\n",
       "    .dataframe tbody tr th {\n",
       "        vertical-align: top;\n",
       "    }\n",
       "</style>\n",
       "<table border=\"1\" class=\"dataframe\">\n",
       "  <thead>\n",
       "    <tr style=\"text-align: right;\">\n",
       "      <th></th>\n",
       "      <th>app_rsp_time</th>\n",
       "      <th>application</th>\n",
       "      <th>ds</th>\n",
       "      <th>source</th>\n",
       "      <th>target_address</th>\n",
       "    </tr>\n",
       "  </thead>\n",
       "  <tbody>\n",
       "    <tr>\n",
       "      <th>2017-11-16 03:00:00</th>\n",
       "      <td>68705</td>\n",
       "      <td>DNS</td>\n",
       "      <td>1510801200000</td>\n",
       "      <td>134.141.5.104</td>\n",
       "      <td>134.141.124.10/</td>\n",
       "    </tr>\n",
       "    <tr>\n",
       "      <th>2017-11-16 03:00:00</th>\n",
       "      <td>639</td>\n",
       "      <td>DNS</td>\n",
       "      <td>1510801200000</td>\n",
       "      <td>134.141.5.104</td>\n",
       "      <td>134.141.90.139/wbl6ycb100</td>\n",
       "    </tr>\n",
       "    <tr>\n",
       "      <th>2017-11-16 03:00:00</th>\n",
       "      <td>5345</td>\n",
       "      <td>DNS</td>\n",
       "      <td>1510801200000</td>\n",
       "      <td>134.141.5.104</td>\n",
       "      <td>134.141.22.168/</td>\n",
       "    </tr>\n",
       "    <tr>\n",
       "      <th>2017-11-16 03:00:00</th>\n",
       "      <td>105870</td>\n",
       "      <td>DNS</td>\n",
       "      <td>1510801200000</td>\n",
       "      <td>134.141.5.104</td>\n",
       "      <td>134.141.23.9/</td>\n",
       "    </tr>\n",
       "    <tr>\n",
       "      <th>2017-11-16 03:00:00</th>\n",
       "      <td>15910</td>\n",
       "      <td>DNS</td>\n",
       "      <td>1510801200000</td>\n",
       "      <td>134.141.5.104</td>\n",
       "      <td>134.141.23.16/</td>\n",
       "    </tr>\n",
       "  </tbody>\n",
       "</table>\n",
       "</div>"
      ],
      "text/plain": [
       "                     app_rsp_time application             ds         source  \\\n",
       "2017-11-16 03:00:00         68705         DNS  1510801200000  134.141.5.104   \n",
       "2017-11-16 03:00:00           639         DNS  1510801200000  134.141.5.104   \n",
       "2017-11-16 03:00:00          5345         DNS  1510801200000  134.141.5.104   \n",
       "2017-11-16 03:00:00        105870         DNS  1510801200000  134.141.5.104   \n",
       "2017-11-16 03:00:00         15910         DNS  1510801200000  134.141.5.104   \n",
       "\n",
       "                                target_address  \n",
       "2017-11-16 03:00:00            134.141.124.10/  \n",
       "2017-11-16 03:00:00  134.141.90.139/wbl6ycb100  \n",
       "2017-11-16 03:00:00            134.141.22.168/  \n",
       "2017-11-16 03:00:00              134.141.23.9/  \n",
       "2017-11-16 03:00:00             134.141.23.16/  "
      ]
     },
     "execution_count": 31,
     "metadata": {},
     "output_type": "execute_result"
    }
   ],
   "source": [
    "df2.head()"
   ]
  },
  {
   "cell_type": "code",
   "execution_count": 32,
   "metadata": {},
   "outputs": [
    {
     "data": {
      "text/plain": [
       "DataFrame[time_stamp: bigint, source: string, zone: string, target_address: string, application: string, applicationgroup: string, target_attribute_id: int, byte_count: bigint, tx_byte_count: bigint, rx_byte_count: bigint, flow_count: int, tx_flow_count: int, rx_flow_count: int, tcp_rsp_time: int, app_rsp_time: int, user_data: string]"
      ]
     },
     "execution_count": 32,
     "metadata": {},
     "output_type": "execute_result"
    }
   ],
   "source": [
    "appid_datapoint_10days"
   ]
  },
  {
   "cell_type": "code",
   "execution_count": 33,
   "metadata": {},
   "outputs": [
    {
     "data": {
      "text/plain": [
       "5622539"
      ]
     },
     "execution_count": 33,
     "metadata": {},
     "output_type": "execute_result"
    }
   ],
   "source": [
    "len(df2)"
   ]
  },
  {
   "cell_type": "code",
   "execution_count": 21,
   "metadata": {},
   "outputs": [
    {
     "data": {
      "text/plain": [
       "234800805"
      ]
     },
     "execution_count": 21,
     "metadata": {},
     "output_type": "execute_result"
    }
   ],
   "source": [
    "df.count()"
   ]
  },
  {
   "cell_type": "code",
   "execution_count": 51,
   "metadata": {},
   "outputs": [
    {
     "data": {
      "text/plain": [
       "[(Empty DataFrame\n",
       "  Columns: []\n",
       "  Index: [], Empty DataFrame\n",
       "  Columns: []\n",
       "  Index: [], Empty DataFrame\n",
       "  Columns: []\n",
       "  Index: []), (Empty DataFrame\n",
       "  Columns: []\n",
       "  Index: [], Empty DataFrame\n",
       "  Columns: []\n",
       "  Index: [], Empty DataFrame\n",
       "  Columns: []\n",
       "  Index: []), (Empty DataFrame\n",
       "  Columns: []\n",
       "  Index: [], Empty DataFrame\n",
       "  Columns: []\n",
       "  Index: [], Empty DataFrame\n",
       "  Columns: []\n",
       "  Index: []), (Empty DataFrame\n",
       "  Columns: []\n",
       "  Index: [], Empty DataFrame\n",
       "  Columns: []\n",
       "  Index: [], Empty DataFrame\n",
       "  Columns: []\n",
       "  Index: []), (Empty DataFrame\n",
       "  Columns: []\n",
       "  Index: [], Empty DataFrame\n",
       "  Columns: []\n",
       "  Index: [], Empty DataFrame\n",
       "  Columns: []\n",
       "  Index: []), (Empty DataFrame\n",
       "  Columns: []\n",
       "  Index: [], Empty DataFrame\n",
       "  Columns: []\n",
       "  Index: [], Empty DataFrame\n",
       "  Columns: []\n",
       "  Index: []), (Empty DataFrame\n",
       "  Columns: []\n",
       "  Index: [], Empty DataFrame\n",
       "  Columns: []\n",
       "  Index: [], Empty DataFrame\n",
       "  Columns: []\n",
       "  Index: []), (Empty DataFrame\n",
       "  Columns: []\n",
       "  Index: [], Empty DataFrame\n",
       "  Columns: []\n",
       "  Index: [], Empty DataFrame\n",
       "  Columns: []\n",
       "  Index: []), (Empty DataFrame\n",
       "  Columns: []\n",
       "  Index: [], Empty DataFrame\n",
       "  Columns: []\n",
       "  Index: [], Empty DataFrame\n",
       "  Columns: []\n",
       "  Index: []), (Empty DataFrame\n",
       "  Columns: []\n",
       "  Index: [], Empty DataFrame\n",
       "  Columns: []\n",
       "  Index: [], Empty DataFrame\n",
       "  Columns: []\n",
       "  Index: []), (Empty DataFrame\n",
       "  Columns: []\n",
       "  Index: [], Empty DataFrame\n",
       "  Columns: []\n",
       "  Index: [], Empty DataFrame\n",
       "  Columns: []\n",
       "  Index: []), (Empty DataFrame\n",
       "  Columns: []\n",
       "  Index: [], Empty DataFrame\n",
       "  Columns: []\n",
       "  Index: [], Empty DataFrame\n",
       "  Columns: []\n",
       "  Index: []), (Empty DataFrame\n",
       "  Columns: []\n",
       "  Index: [], Empty DataFrame\n",
       "  Columns: []\n",
       "  Index: [], Empty DataFrame\n",
       "  Columns: []\n",
       "  Index: []), (Empty DataFrame\n",
       "  Columns: []\n",
       "  Index: [], Empty DataFrame\n",
       "  Columns: []\n",
       "  Index: [], Empty DataFrame\n",
       "  Columns: []\n",
       "  Index: []), (Empty DataFrame\n",
       "  Columns: []\n",
       "  Index: [], Empty DataFrame\n",
       "  Columns: []\n",
       "  Index: [], Empty DataFrame\n",
       "  Columns: []\n",
       "  Index: []), (Empty DataFrame\n",
       "  Columns: []\n",
       "  Index: [], Empty DataFrame\n",
       "  Columns: []\n",
       "  Index: [], Empty DataFrame\n",
       "  Columns: []\n",
       "  Index: [])]"
      ]
     },
     "execution_count": 51,
     "metadata": {},
     "output_type": "execute_result"
    }
   ],
   "source": [
    "results"
   ]
  },
  {
   "cell_type": "code",
   "execution_count": 54,
   "metadata": {},
   "outputs": [
    {
     "data": {
      "text/plain": [
       "array(['10.6.1.101'], dtype=object)"
      ]
     },
     "execution_count": 54,
     "metadata": {},
     "output_type": "execute_result"
    }
   ],
   "source": [
    "dummy = pd.read_csv('parallel_test/p1_eval_10.6.1.101_.csv')\n",
    "dummy.source.unique()"
   ]
  },
  {
   "cell_type": "code",
   "execution_count": 36,
   "metadata": {},
   "outputs": [
    {
     "data": {
      "text/html": [
       "<div>\n",
       "<style>\n",
       "    .dataframe thead tr:only-child th {\n",
       "        text-align: right;\n",
       "    }\n",
       "\n",
       "    .dataframe thead th {\n",
       "        text-align: left;\n",
       "    }\n",
       "\n",
       "    .dataframe tbody tr th {\n",
       "        vertical-align: top;\n",
       "    }\n",
       "</style>\n",
       "<table border=\"1\" class=\"dataframe\">\n",
       "  <thead>\n",
       "    <tr style=\"text-align: right;\">\n",
       "      <th></th>\n",
       "    </tr>\n",
       "  </thead>\n",
       "  <tbody>\n",
       "  </tbody>\n",
       "</table>\n",
       "</div>"
      ],
      "text/plain": [
       "Empty DataFrame\n",
       "Columns: []\n",
       "Index: []"
      ]
     },
     "execution_count": 36,
     "metadata": {},
     "output_type": "execute_result"
    }
   ],
   "source": [
    "(results[0][2])"
   ]
  },
  {
   "cell_type": "markdown",
   "metadata": {},
   "source": [
    "## For dynamic calculation"
   ]
  },
  {
   "cell_type": "code",
   "execution_count": 20,
   "metadata": {
    "collapsed": true
   },
   "outputs": [],
   "source": [
    "from pyspark.sql import SQLContext\n",
    "import pandas as pd\n",
    "import pymysql\n",
    "import warnings\n",
    "warnings.filterwarnings(\"ignore\")\n",
    "from datetime import datetime, timedelta\n",
    "import logging\n",
    "from tqdm import tqdm\n",
    "from fbprophet import Prophet\n",
    "from sklearn.metrics import mean_squared_error as mse\n",
    "import math\n",
    "\n",
    "## Logging ##\n",
    "\n",
    "import os\n",
    "import sys\n",
    "\n",
    "\n",
    "from pyspark.context import SparkContext\n",
    "from pyspark.sql.session import SparkSession\n",
    "import os\n",
    "import pandas as pd\n",
    "\n",
    "from pyspark.sql import SparkSession\n",
    "import datetime\n",
    "full_t1 = datetime.datetime.now()\n",
    "# initialise sparkContext\n",
    "spark1 = SparkSession.builder \\\n",
    "    .master('local') \\\n",
    "    .appName('p7_sample') \\\n",
    "    .config('spark.executor.memory', '24gb') \\\n",
    "    .config(\"spark.cores.max\", \"16\") \\\n",
    "    .getOrCreate()\n",
    "\n",
    "sc = spark1.sparkContext\n",
    "\n",
    "# using SQLContext to read parquet file\n",
    "from pyspark.sql import SQLContext\n",
    "sqlContext = SQLContext(sc)\n",
    "\n",
    "def create_prophet_m(app_name,z1,delay=24):\n",
    "    \n",
    "    ### --- For realtime pred ---###\n",
    "    \n",
    "    full_df = z1.app_rsp_time.iloc[0:len(z1)]\n",
    "    full_df = full_df.reset_index()\n",
    "    full_df.columns = ['ds','y']\n",
    "    \n",
    "    #-- Realtime prediction --##\n",
    "    #model \n",
    "    model_r = Prophet(yearly_seasonality=False,changepoint_prior_scale=.2)\n",
    "    model_r.fit(full_df)\n",
    "    future_r = model_r.make_future_dataframe(periods=delay,freq='H')\n",
    "    forecast_r = model_r.predict(future_r)\n",
    "    forecast_r.index = forecast_r['ds']\n",
    "    #forecast \n",
    "    pred_r = pd.DataFrame(forecast_r['yhat'][len(z1):(len(z1)+delay)])\n",
    "    pred_r=pred_r.reset_index()\n",
    "    #--- completes realtime pred ---#\n",
    "    \n",
    "    train_end_index=len(z1.app_rsp_time)-delay\n",
    "    train_df=z1.app_rsp_time.iloc[0:train_end_index]\n",
    "    #train_df= train_df[train_df<cutter]\n",
    "    \n",
    "    \n",
    "    test_df=z1.app_rsp_time.iloc[train_end_index:len(z1)]\n",
    "    \n",
    "    \n",
    "    \n",
    "    train_df=train_df.reset_index()\n",
    "    test_df=test_df.reset_index()\n",
    "    train_df.columns=['ds','y']\n",
    "    \n",
    "    #--- removing outliers in trainset  ---#\n",
    "    \n",
    "    q50 = train_df.y.median()\n",
    "    q100 = train_df.y.quantile(1)\n",
    "    q75  = train_df.y.quantile(.75)\n",
    "    #print(max(train_df.y))\n",
    "    if((q100-q50) >= (2*q50)):\n",
    "        print('ind')\n",
    "        train_df.loc[train_df.y>=(2*q50),'y'] = None\n",
    "    \n",
    "    test_df.columns=['ds','y']\n",
    "    print('len of testdf = ',len(test_df))\n",
    "    #model \n",
    "    model = Prophet(yearly_seasonality=False,changepoint_prior_scale=.2)\n",
    "    model.fit(train_df)\n",
    "    future = model.make_future_dataframe(periods=len(test_df),freq='H')\n",
    "    forecast = model.predict(future)\n",
    "    forecast.index = forecast['ds']\n",
    "    #forecast \n",
    "    pred = pd.DataFrame(forecast['yhat'][train_end_index:len(z1)])\n",
    "    pred=pred.reset_index()\n",
    "    pred_df=pd.merge(test_df,pred,on='ds',how='left')\n",
    "    pred_df.dropna(inplace=True)\n",
    "    \n",
    "    df=pd.DataFrame()\n",
    "    \n",
    "    if(len(pred_df)>0):\n",
    "        \n",
    "        pred_df['error_test']=pred_df.y-pred_df.yhat\n",
    "    \n",
    "        \n",
    "    \n",
    "        MSE=mse(pred_df.y,pred_df.yhat)\n",
    "        RMSE=math.sqrt(MSE)\n",
    "        pred_df['APE']=abs(pred_df.error_test*100/pred_df.y)\n",
    "        MAPE=pred_df.APE.mean()\n",
    "        print(\"App name:\",app_name)\n",
    "        print(\"MSE  :\",MSE)\n",
    "        print(\"RMSE :\",RMSE)\n",
    "        print(\"MAPE :\",MAPE)\n",
    "        \n",
    "        q98=pred_df['APE'].quantile(0.98)\n",
    "        mape_q98=pred_df['APE'][pred_df.APE<pred_df['APE'].quantile(0.98)].mean()\n",
    "\n",
    "        df = pd.DataFrame({'length':len(z1),#'predicted_t':[forcast_lag],\n",
    "                             'test_rmse':RMSE,\n",
    "                             'test_mape':MAPE,\n",
    "                 #'test_ape_98':q98,\n",
    "                 'test_mape_98':mape_q98},\n",
    "                   \n",
    "                          index=[app_name])\n",
    "\n",
    "    return(df,model,forecast,pred_df,pred_r)\n",
    "\n"
   ]
  },
  {
   "cell_type": "code",
   "execution_count": 23,
   "metadata": {
    "scrolled": true
   },
   "outputs": [
    {
     "name": "stdout",
     "output_type": "stream",
     "text": [
      "0:00:21.577868\n",
      "len of testdf =  24\n",
      "App name: DNS\n",
      "MSE  : 605968577.3680652\n",
      "RMSE : 24616.429013324927\n",
      "MAPE : 11.534673914457153\n",
      "time for prophet modelling 0:00:11.330581\n",
      "time for prophet modelling 0:00:11.330581\n",
      "0:00:21.460914\n",
      "len of testdf =  24\n",
      "App name: DNS\n",
      "MSE  : 1207885355.7872488\n",
      "RMSE : 34754.64509655147\n",
      "MAPE : 7.853658218903047\n",
      "time for prophet modelling 0:00:12.705812\n",
      "time for prophet modelling 0:00:12.705812\n",
      "0:00:21.582631\n",
      "len of testdf =  24\n",
      "App name: DNS\n",
      "MSE  : 15350942953.538794\n",
      "RMSE : 123898.92232597826\n",
      "MAPE : 2.492707507414026\n",
      "time for prophet modelling 0:00:10.726708\n",
      "time for prophet modelling 0:00:10.726708\n",
      "0:00:21.546631\n",
      "ind\n",
      "len of testdf =  24\n",
      "App name: DNS\n",
      "MSE  : 901752848.7171904\n",
      "RMSE : 30029.199934683413\n",
      "MAPE : 24.568138214464483\n",
      "time for prophet modelling 0:00:10.356018\n",
      "time for prophet modelling 0:00:10.356018\n",
      "0:00:21.339514\n",
      "len of testdf =  24\n",
      "App name: DNS\n",
      "MSE  : 3432061085.9154124\n",
      "RMSE : 58583.795420879076\n",
      "MAPE : 15.040133401783349\n",
      "time for prophet modelling 0:00:11.389395\n",
      "time for prophet modelling 0:00:11.389395\n",
      "0:00:21.867369\n",
      "len of testdf =  24\n",
      "App name: DNS\n",
      "MSE  : 59127086285.65243\n",
      "RMSE : 243160.61828686902\n",
      "MAPE : 9.61269226634951\n",
      "time for prophet modelling 0:00:12.010879\n",
      "time for prophet modelling 0:00:12.010879\n",
      "0:00:21.426882\n",
      "ind\n",
      "len of testdf =  24\n",
      "App name: DNS\n",
      "MSE  : 6814374295.170891\n",
      "RMSE : 82549.22346800659\n",
      "MAPE : 27.64817292382962\n",
      "time for prophet modelling 0:00:09.954497\n",
      "time for prophet modelling 0:00:09.954497\n",
      "0:00:21.545074\n",
      "ind\n",
      "len of testdf =  24\n",
      "App name: DNS\n",
      "MSE  : 4671803793.555453\n",
      "RMSE : 68350.5946832612\n",
      "MAPE : 13.86355161656031\n",
      "time for prophet modelling 0:00:11.099497\n",
      "time for prophet modelling 0:00:11.099497\n",
      "0:00:21.394877\n",
      "ind\n",
      "len of testdf =  24\n",
      "App name: DNS\n",
      "MSE  : 2694161063.91517\n",
      "RMSE : 51905.308629418345\n",
      "MAPE : 22.511846586233393\n",
      "time for prophet modelling 0:00:09.818065\n",
      "time for prophet modelling 0:00:09.818065\n",
      "0:00:21.470125\n",
      "ind\n",
      "len of testdf =  24\n",
      "App name: DNS\n",
      "MSE  : 24280327.282581817\n",
      "RMSE : 4927.507207765588\n",
      "MAPE : 16.11132574591222\n",
      "time for prophet modelling 0:00:09.620651\n",
      "time for prophet modelling 0:00:09.620651\n"
     ]
    },
    {
     "data": {
      "text/plain": [
       "'0:07:06.320055'"
      ]
     },
     "execution_count": 23,
     "metadata": {},
     "output_type": "execute_result"
    }
   ],
   "source": [
    "df = sqlContext.read.parquet('appid_datapoint_parquet1')\n",
    "df = df[df.app_rsp_time!=0]\n",
    "def forapp(t,s,df3):\n",
    "    \n",
    "    q1 = datetime.datetime.now()\n",
    "    #for a in tqdm(a_list[0:1]):\n",
    "    \n",
    "    # run for all combinations\n",
    "\n",
    "\n",
    "    prophet_df = pd.DataFrame()\n",
    "    prophet_analysis_df = pd.DataFrame()\n",
    "    prophet_future_df = pd.DataFrame()\n",
    "   \n",
    "    temp2 = df3\n",
    "    \n",
    "    t1 = datetime.datetime.now()\n",
    "\n",
    "    if(len(temp2)>1400):\n",
    "            \n",
    "        t2 = datetime.datetime.now()\n",
    "            \n",
    "        ew_prophet,ew_model,ew_forcast,ew_pred_df,pred_r =(create_prophet_m(a,temp2,24))\n",
    "        t2 = datetime.datetime.now()\n",
    "        print('time for prophet modelling',(str(t2-t1)))\n",
    "        print('time for prophet modelling',(str(t2-t1)))\n",
    "        ew_pred_df['application'] = a\n",
    "        ew_pred_df['target'] = t\n",
    "        ew_pred_df['source'] = s\n",
    "            \n",
    "        pred_r['application'] = a\n",
    "        pred_r['target'] = t\n",
    "        pred_r['source'] = s\n",
    "        \n",
    "        ew_prophet['target'] = t\n",
    "        ew_prophet['source'] = s\n",
    "        ew_prophet['application'] = a\n",
    "            \n",
    "        prophet_df = prophet_df.append(ew_pred_df)  \n",
    "        prophet_analysis_df = prophet_analysis_df.append(ew_prophet)\n",
    "        prophet_future_df = prophet_future_df.append(pred_r)\n",
    "        \n",
    "    qt3 = datetime.datetime.now()\n",
    "    #print('time for all calculation', str(qt3-qt1))\n",
    "    prophet_df.to_csv(\"parallel_test/p1_eval_\"+s+\"_\"+t.replace(\"/\",\"\")+\"_.csv\")\n",
    "    #prophet_analysis_df.to_csv('parallel_test/p1_analysis_'+s+'_'+t+'.csv')\n",
    "    #prophet_future_df.to_csv('parallel_test/p1_forecast_'+s+'_'+t+'.csv')\n",
    "    \n",
    "    return prophet_df, prophet_analysis_df, prophet_future_df\n",
    "\n",
    "t1 = datetime.datetime.now()\n",
    "#t = '10.6.16.32/' #targets[0]\n",
    "#s = s_list[1]\n",
    "s = '10.6.1.101'\n",
    "a='DNS'\n",
    "\n",
    "\n",
    "#a1,a2,a3=forapp(t,s,df2[(df2.source==s) & (df2.target_address==t)])\n",
    "A1=pd.DataFrame()\n",
    "A2=pd.DataFrame()\n",
    "A3=pd.DataFrame()\n",
    "for i in range(0,10):\n",
    "    t = ta_array[i]\n",
    "    \n",
    "    t1 = datetime.datetime.now()\n",
    "    df1 = df[(df.target_address == t) & (df.application == a) & (df.source == s)]\n",
    "\n",
    "    #ts = df1.select('time_stamp').collect()\n",
    "    #ts_array = [int(i.time_stamp) for i in ts]\n",
    "    #y = df1.select('app_rsp_time').collect()\n",
    "    #y_array = [int(i.app_rsp_time) for i in y]\n",
    "    #ss = df1.select('source').collect()\n",
    "    #s_array = [str(i.source) for i in ss]\n",
    "    #ta = df1.select('target_address').collect()\n",
    "    #ta_array = [str(i.target_address) for i in ta]\n",
    "    #aa = df1.select('application').collect()\n",
    "    #a_array = [str(i.application) for i in aa]\n",
    "        \n",
    "    #dates_outlook = pd.to_datetime(pd.Series(ts_array),unit='ms')\n",
    "        \n",
    "    #df2 = pd.DataFrame({'ds':ts_array,'app_rsp_time':y_array })#,'application':a_array,\n",
    "                           #'source':s_array,'target_address':ta_array})\n",
    "    df2 = df1.toPandas()\n",
    "    dates_outlook = pd.to_datetime(pd.Series(df2.time_stamp.astype(int)),unit='ms')\n",
    "    df2.index = dates_outlook\n",
    "    df2 = df2[df2.app_rsp_time!=0]\n",
    "    df2 = df2.sort_values(by='time_stamp')\n",
    "    t2 = datetime.datetime.now()\n",
    "    print((str(t2-t1)))\n",
    "    \n",
    "    a1,a2,a3=forapp(t,s,df2)\n",
    "    A1 = A1.append(a1)\n",
    "    A2 = A2.append(a2)\n",
    "    A3 = A3.append(a3)\n",
    "t2 = datetime.datetime.now()\n",
    "full_t2 = datetime.datetime.now()\n",
    "str(full_t2-full_t1)"
   ]
  },
  {
   "cell_type": "code",
   "execution_count": 16,
   "metadata": {
    "collapsed": true
   },
   "outputs": [],
   "source": [
    "gg = df1.toPandas()"
   ]
  },
  {
   "cell_type": "code",
   "execution_count": 17,
   "metadata": {},
   "outputs": [
    {
     "data": {
      "text/html": [
       "<div>\n",
       "<style>\n",
       "    .dataframe thead tr:only-child th {\n",
       "        text-align: right;\n",
       "    }\n",
       "\n",
       "    .dataframe thead th {\n",
       "        text-align: left;\n",
       "    }\n",
       "\n",
       "    .dataframe tbody tr th {\n",
       "        vertical-align: top;\n",
       "    }\n",
       "</style>\n",
       "<table border=\"1\" class=\"dataframe\">\n",
       "  <thead>\n",
       "    <tr style=\"text-align: right;\">\n",
       "      <th></th>\n",
       "      <th>time_stamp</th>\n",
       "      <th>source</th>\n",
       "      <th>zone</th>\n",
       "      <th>target_address</th>\n",
       "      <th>application</th>\n",
       "      <th>applicationgroup</th>\n",
       "      <th>target_attribute_id</th>\n",
       "      <th>byte_count</th>\n",
       "      <th>tx_byte_count</th>\n",
       "      <th>rx_byte_count</th>\n",
       "      <th>flow_count</th>\n",
       "      <th>tx_flow_count</th>\n",
       "      <th>rx_flow_count</th>\n",
       "      <th>tcp_rsp_time</th>\n",
       "      <th>app_rsp_time</th>\n",
       "      <th>user_data</th>\n",
       "    </tr>\n",
       "  </thead>\n",
       "  <tbody>\n",
       "    <tr>\n",
       "      <th>0</th>\n",
       "      <td>1511780400000</td>\n",
       "      <td>10.6.1.101</td>\n",
       "      <td>\\N</td>\n",
       "      <td>10.6.16.102/</td>\n",
       "      <td>DNS</td>\n",
       "      <td>Protocols</td>\n",
       "      <td>218165936</td>\n",
       "      <td>335390</td>\n",
       "      <td>205490</td>\n",
       "      <td>129900</td>\n",
       "      <td>2311</td>\n",
       "      <td>1155</td>\n",
       "      <td>1156</td>\n",
       "      <td>0</td>\n",
       "      <td>1377</td>\n",
       "      <td>\\N</td>\n",
       "    </tr>\n",
       "    <tr>\n",
       "      <th>1</th>\n",
       "      <td>1511784000000</td>\n",
       "      <td>10.6.1.101</td>\n",
       "      <td>\\N</td>\n",
       "      <td>10.6.16.102/</td>\n",
       "      <td>DNS</td>\n",
       "      <td>Protocols</td>\n",
       "      <td>218177710</td>\n",
       "      <td>300937</td>\n",
       "      <td>177618</td>\n",
       "      <td>123319</td>\n",
       "      <td>2032</td>\n",
       "      <td>1013</td>\n",
       "      <td>1019</td>\n",
       "      <td>423</td>\n",
       "      <td>1067</td>\n",
       "      <td>\\N</td>\n",
       "    </tr>\n",
       "    <tr>\n",
       "      <th>2</th>\n",
       "      <td>1511787600000</td>\n",
       "      <td>10.6.1.101</td>\n",
       "      <td>\\N</td>\n",
       "      <td>10.6.16.102/</td>\n",
       "      <td>DNS</td>\n",
       "      <td>Protocols</td>\n",
       "      <td>218191976</td>\n",
       "      <td>342148</td>\n",
       "      <td>201218</td>\n",
       "      <td>140930</td>\n",
       "      <td>2302</td>\n",
       "      <td>1149</td>\n",
       "      <td>1153</td>\n",
       "      <td>3830</td>\n",
       "      <td>1042</td>\n",
       "      <td>\\N</td>\n",
       "    </tr>\n",
       "    <tr>\n",
       "      <th>3</th>\n",
       "      <td>1511791200000</td>\n",
       "      <td>10.6.1.101</td>\n",
       "      <td>\\N</td>\n",
       "      <td>10.6.16.102/</td>\n",
       "      <td>DNS</td>\n",
       "      <td>Protocols</td>\n",
       "      <td>218204485</td>\n",
       "      <td>273854</td>\n",
       "      <td>164760</td>\n",
       "      <td>109094</td>\n",
       "      <td>1978</td>\n",
       "      <td>986</td>\n",
       "      <td>992</td>\n",
       "      <td>34422</td>\n",
       "      <td>1344</td>\n",
       "      <td>\\N</td>\n",
       "    </tr>\n",
       "    <tr>\n",
       "      <th>4</th>\n",
       "      <td>1511794800000</td>\n",
       "      <td>10.6.1.101</td>\n",
       "      <td>\\N</td>\n",
       "      <td>10.6.16.102/</td>\n",
       "      <td>DNS</td>\n",
       "      <td>Protocols</td>\n",
       "      <td>218219419</td>\n",
       "      <td>168052</td>\n",
       "      <td>98541</td>\n",
       "      <td>69511</td>\n",
       "      <td>1313</td>\n",
       "      <td>654</td>\n",
       "      <td>659</td>\n",
       "      <td>32585</td>\n",
       "      <td>1664</td>\n",
       "      <td>\\N</td>\n",
       "    </tr>\n",
       "  </tbody>\n",
       "</table>\n",
       "</div>"
      ],
      "text/plain": [
       "      time_stamp      source zone target_address application applicationgroup  \\\n",
       "0  1511780400000  10.6.1.101   \\N   10.6.16.102/         DNS        Protocols   \n",
       "1  1511784000000  10.6.1.101   \\N   10.6.16.102/         DNS        Protocols   \n",
       "2  1511787600000  10.6.1.101   \\N   10.6.16.102/         DNS        Protocols   \n",
       "3  1511791200000  10.6.1.101   \\N   10.6.16.102/         DNS        Protocols   \n",
       "4  1511794800000  10.6.1.101   \\N   10.6.16.102/         DNS        Protocols   \n",
       "\n",
       "   target_attribute_id  byte_count  tx_byte_count  rx_byte_count  flow_count  \\\n",
       "0            218165936      335390         205490         129900        2311   \n",
       "1            218177710      300937         177618         123319        2032   \n",
       "2            218191976      342148         201218         140930        2302   \n",
       "3            218204485      273854         164760         109094        1978   \n",
       "4            218219419      168052          98541          69511        1313   \n",
       "\n",
       "   tx_flow_count  rx_flow_count  tcp_rsp_time  app_rsp_time user_data  \n",
       "0           1155           1156             0          1377        \\N  \n",
       "1           1013           1019           423          1067        \\N  \n",
       "2           1149           1153          3830          1042        \\N  \n",
       "3            986            992         34422          1344        \\N  \n",
       "4            654            659         32585          1664        \\N  "
      ]
     },
     "execution_count": 17,
     "metadata": {},
     "output_type": "execute_result"
    }
   ],
   "source": [
    "gg.head()"
   ]
  },
  {
   "cell_type": "code",
   "execution_count": null,
   "metadata": {},
   "outputs": [],
   "source": [
    "ta = df[(df.source==s) & (df.application==a)].select('target_address').collect()\n",
    "ta_array = [str(i.target_address) for i in ta]\n",
    "ta_array"
   ]
  },
  {
   "cell_type": "code",
   "execution_count": 38,
   "metadata": {},
   "outputs": [
    {
     "data": {
      "text/html": [
       "<div>\n",
       "<style>\n",
       "    .dataframe thead tr:only-child th {\n",
       "        text-align: right;\n",
       "    }\n",
       "\n",
       "    .dataframe thead th {\n",
       "        text-align: left;\n",
       "    }\n",
       "\n",
       "    .dataframe tbody tr th {\n",
       "        vertical-align: top;\n",
       "    }\n",
       "</style>\n",
       "<table border=\"1\" class=\"dataframe\">\n",
       "  <thead>\n",
       "    <tr style=\"text-align: right;\">\n",
       "      <th></th>\n",
       "      <th>ds</th>\n",
       "      <th>y</th>\n",
       "      <th>yhat</th>\n",
       "      <th>error_test</th>\n",
       "      <th>APE</th>\n",
       "      <th>application</th>\n",
       "      <th>target</th>\n",
       "      <th>source</th>\n",
       "    </tr>\n",
       "  </thead>\n",
       "  <tbody>\n",
       "    <tr>\n",
       "      <th>161</th>\n",
       "      <td>2018-02-09 12:00:00</td>\n",
       "      <td>188752</td>\n",
       "      <td>194837.320412</td>\n",
       "      <td>-6085.320412</td>\n",
       "      <td>3.223977</td>\n",
       "      <td>DNS</td>\n",
       "      <td>10.6.16.32/</td>\n",
       "      <td>10.6.1.101</td>\n",
       "    </tr>\n",
       "    <tr>\n",
       "      <th>162</th>\n",
       "      <td>2018-02-09 13:00:00</td>\n",
       "      <td>174230</td>\n",
       "      <td>182711.713000</td>\n",
       "      <td>-8481.713000</td>\n",
       "      <td>4.868113</td>\n",
       "      <td>DNS</td>\n",
       "      <td>10.6.16.32/</td>\n",
       "      <td>10.6.1.101</td>\n",
       "    </tr>\n",
       "    <tr>\n",
       "      <th>163</th>\n",
       "      <td>2018-02-09 14:00:00</td>\n",
       "      <td>142512</td>\n",
       "      <td>171699.396027</td>\n",
       "      <td>-29187.396027</td>\n",
       "      <td>20.480658</td>\n",
       "      <td>DNS</td>\n",
       "      <td>10.6.16.32/</td>\n",
       "      <td>10.6.1.101</td>\n",
       "    </tr>\n",
       "    <tr>\n",
       "      <th>164</th>\n",
       "      <td>2018-02-09 15:00:00</td>\n",
       "      <td>141531</td>\n",
       "      <td>161486.218561</td>\n",
       "      <td>-19955.218561</td>\n",
       "      <td>14.099539</td>\n",
       "      <td>DNS</td>\n",
       "      <td>10.6.16.32/</td>\n",
       "      <td>10.6.1.101</td>\n",
       "    </tr>\n",
       "    <tr>\n",
       "      <th>165</th>\n",
       "      <td>2018-02-09 16:00:00</td>\n",
       "      <td>147162</td>\n",
       "      <td>153916.583695</td>\n",
       "      <td>-6754.583695</td>\n",
       "      <td>4.589897</td>\n",
       "      <td>DNS</td>\n",
       "      <td>10.6.16.32/</td>\n",
       "      <td>10.6.1.101</td>\n",
       "    </tr>\n",
       "    <tr>\n",
       "      <th>166</th>\n",
       "      <td>2018-02-09 17:00:00</td>\n",
       "      <td>138544</td>\n",
       "      <td>151893.234973</td>\n",
       "      <td>-13349.234973</td>\n",
       "      <td>9.635376</td>\n",
       "      <td>DNS</td>\n",
       "      <td>10.6.16.32/</td>\n",
       "      <td>10.6.1.101</td>\n",
       "    </tr>\n",
       "    <tr>\n",
       "      <th>167</th>\n",
       "      <td>2018-02-09 18:00:00</td>\n",
       "      <td>123481</td>\n",
       "      <td>155219.754597</td>\n",
       "      <td>-31738.754597</td>\n",
       "      <td>25.703351</td>\n",
       "      <td>DNS</td>\n",
       "      <td>10.6.16.32/</td>\n",
       "      <td>10.6.1.101</td>\n",
       "    </tr>\n",
       "  </tbody>\n",
       "</table>\n",
       "</div>"
      ],
      "text/plain": [
       "                     ds       y           yhat    error_test        APE  \\\n",
       "161 2018-02-09 12:00:00  188752  194837.320412  -6085.320412   3.223977   \n",
       "162 2018-02-09 13:00:00  174230  182711.713000  -8481.713000   4.868113   \n",
       "163 2018-02-09 14:00:00  142512  171699.396027 -29187.396027  20.480658   \n",
       "164 2018-02-09 15:00:00  141531  161486.218561 -19955.218561  14.099539   \n",
       "165 2018-02-09 16:00:00  147162  153916.583695  -6754.583695   4.589897   \n",
       "166 2018-02-09 17:00:00  138544  151893.234973 -13349.234973   9.635376   \n",
       "167 2018-02-09 18:00:00  123481  155219.754597 -31738.754597  25.703351   \n",
       "\n",
       "    application       target      source  \n",
       "161         DNS  10.6.16.32/  10.6.1.101  \n",
       "162         DNS  10.6.16.32/  10.6.1.101  \n",
       "163         DNS  10.6.16.32/  10.6.1.101  \n",
       "164         DNS  10.6.16.32/  10.6.1.101  \n",
       "165         DNS  10.6.16.32/  10.6.1.101  \n",
       "166         DNS  10.6.16.32/  10.6.1.101  \n",
       "167         DNS  10.6.16.32/  10.6.1.101  "
      ]
     },
     "execution_count": 38,
     "metadata": {},
     "output_type": "execute_result"
    }
   ],
   "source": [
    "a1"
   ]
  },
  {
   "cell_type": "code",
   "execution_count": 21,
   "metadata": {},
   "outputs": [
    {
     "data": {
      "text/plain": [
       "[Row(time_stamp=1511780400000, source='10.6.1.101', zone='\\\\N', target_address='10.6.16.32/', application='DNS', applicationgroup='Protocols', target_attribute_id=218165899, byte_count=73951948, tx_byte_count=46738951, rx_byte_count=27212997, flow_count=492880, tx_flow_count=246326, rx_flow_count=246554, tcp_rsp_time=224, app_rsp_time=244753, user_data='\\\\N'),\n",
       " Row(time_stamp=1511780400000, source='10.6.1.101', zone='\\\\N', target_address='10.6.25.30/', application='DNS', applicationgroup='Protocols', target_attribute_id=218165900, byte_count=42292759, tx_byte_count=17802393, rx_byte_count=24490366, flow_count=235158, tx_flow_count=118308, rx_flow_count=116850, tcp_rsp_time=131, app_rsp_time=304750, user_data='\\\\N'),\n",
       " Row(time_stamp=1511780400000, source='10.6.1.101', zone='\\\\N', target_address='134.141.79.201/usnh-cdc-p1', application='DNS', applicationgroup='Protocols', target_attribute_id=218165906, byte_count=16225133, tx_byte_count=7144320, rx_byte_count=9080813, flow_count=108399, tx_flow_count=54272, rx_flow_count=54127, tcp_rsp_time=33038, app_rsp_time=3595323, user_data='\\\\N')]"
      ]
     },
     "execution_count": 21,
     "metadata": {},
     "output_type": "execute_result"
    }
   ],
   "source": [
    "df[(df.source==s) & (df.application == a)].head(3)"
   ]
  }
 ],
 "metadata": {
  "kernelspec": {
   "display_name": "Python 3",
   "language": "python",
   "name": "python3"
  },
  "language_info": {
   "codemirror_mode": {
    "name": "ipython",
    "version": 3
   },
   "file_extension": ".py",
   "mimetype": "text/x-python",
   "name": "python",
   "nbconvert_exporter": "python",
   "pygments_lexer": "ipython3",
   "version": "3.6.3"
  }
 },
 "nbformat": 4,
 "nbformat_minor": 2
}
